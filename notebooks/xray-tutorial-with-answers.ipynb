{
 "cells": [
  {
   "cell_type": "markdown",
   "metadata": {},
   "source": [
    "# xray tutorial\n",
    "\n",
    "[Stephan Hoyer](http://stephanhoyer.com), Unidata Users Workshop, 2015\n",
    "\n",
    "-------------\n",
    "\n",
    "This notebook introduces xray for new users.\n",
    "\n",
    "For more information about xray:\n",
    "\n",
    "- Reading the online documentation: http://xray.readthedocs.org/\n",
    "- Check us out on GitHub: http://github.com/xray/xray/"
   ]
  },
  {
   "cell_type": "code",
   "execution_count": 1,
   "metadata": {
    "collapsed": true
   },
   "outputs": [],
   "source": [
    "# standard imports\n",
    "import numpy as np\n",
    "import pandas as pd\n",
    "import matplotlib.pyplot as plt\n",
    "import xray\n",
    "\n",
    "%matplotlib inline\n",
    "\n",
    "np.set_printoptions(precision=3, linewidth=100, edgeitems=2)  # make numpy less verbose"
   ]
  },
  {
   "cell_type": "markdown",
   "metadata": {},
   "source": [
    "-------------------\n",
    "\n",
    "## xray basics"
   ]
  },
  {
   "cell_type": "markdown",
   "metadata": {},
   "source": [
    "#### Reading and writing netCDF"
   ]
  },
  {
   "cell_type": "markdown",
   "metadata": {},
   "source": [
    "To start off, download this [example netCDF file](https://github.com/xray/xray-data/blob/master/ncep_temperature_north-america_2013-14.nc?raw=true) subset from the [NCEP/NCAR Reanalysis 1](http://www.esrl.noaa.gov/psd/data/gridded/data.ncep.reanalysis.html)."
   ]
  },
  {
   "cell_type": "markdown",
   "metadata": {},
   "source": [
    "We'll open it up using `xray.open_dataset`. Under the covers, this uses the [netCDF4-Python](https://github.com/unidata/netcdf4-python) library:"
   ]
  },
  {
   "cell_type": "code",
   "execution_count": 2,
   "metadata": {
    "collapsed": false
   },
   "outputs": [],
   "source": [
    "ds = xray.open_dataset('/Users/shoyer/Downloads/ncep_temperature_north-america_2013-14.nc')"
   ]
  },
  {
   "cell_type": "code",
   "execution_count": 3,
   "metadata": {
    "collapsed": false
   },
   "outputs": [
    {
     "data": {
      "text/plain": [
       "<xray.Dataset>\n",
       "Dimensions:  (lat: 25, lon: 53, time: 2920)\n",
       "Coordinates:\n",
       "  * lat      (lat) float32 75.0 72.5 70.0 67.5 65.0 62.5 60.0 57.5 55.0 52.5 ...\n",
       "  * lon      (lon) float32 200.0 202.5 205.0 207.5 210.0 212.5 215.0 217.5 ...\n",
       "  * time     (time) datetime64[ns] 2013-01-01 2013-01-01T06:00:00 ...\n",
       "Data variables:\n",
       "    air      (time, lat, lon) float64 241.2 242.5 243.5 244.0 244.1 243.9 ...\n",
       "Attributes:\n",
       "    Conventions: COARDS\n",
       "    title: 4x daily NMC reanalysis (1948)\n",
       "    description: Data is from NMC initialized reanalysis\n",
       "(4x/day).  These are the 0.9950 sigma level values.\n",
       "    platform: Model\n",
       "    references: http://www.esrl.noaa.gov/psd/data/gridded/data.ncep.reanalysis.html"
      ]
     },
     "execution_count": 3,
     "metadata": {},
     "output_type": "execute_result"
    }
   ],
   "source": [
    "ds"
   ]
  },
  {
   "cell_type": "code",
   "execution_count": 4,
   "metadata": {
    "collapsed": false
   },
   "outputs": [
    {
     "data": {
      "text/plain": [
       "<xray.DataArray 'air' (time: 2920, lat: 25, lon: 53)>\n",
       "[3869000 values with dtype=float64]\n",
       "Coordinates:\n",
       "  * lat      (lat) float32 75.0 72.5 70.0 67.5 65.0 62.5 60.0 57.5 55.0 52.5 ...\n",
       "  * lon      (lon) float32 200.0 202.5 205.0 207.5 210.0 212.5 215.0 217.5 ...\n",
       "  * time     (time) datetime64[ns] 2013-01-01 2013-01-01T06:00:00 ...\n",
       "Attributes:\n",
       "    long_name: 4xDaily Air temperature at sigma level 995\n",
       "    units: degK\n",
       "    precision: 2\n",
       "    GRIB_id: 11\n",
       "    GRIB_name: TMP\n",
       "    var_desc: Air temperature\n",
       "    dataset: NMC Reanalysis\n",
       "    level_desc: Surface\n",
       "    statistic: Individual Obs\n",
       "    parent_stat: Other\n",
       "    actual_range: [ 185.16  322.1 ]"
      ]
     },
     "execution_count": 4,
     "metadata": {},
     "output_type": "execute_result"
    }
   ],
   "source": [
    "ds.air"
   ]
  },
  {
   "cell_type": "markdown",
   "metadata": {},
   "source": [
    "#### `xray.Dataset` is like a Python dictionary (of `xray.DataArray` objects)"
   ]
  },
  {
   "cell_type": "code",
   "execution_count": 5,
   "metadata": {
    "collapsed": false
   },
   "outputs": [
    {
     "data": {
      "text/plain": [
       "True"
      ]
     },
     "execution_count": 5,
     "metadata": {},
     "output_type": "execute_result"
    }
   ],
   "source": [
    "'air' in ds"
   ]
  },
  {
   "cell_type": "code",
   "execution_count": 6,
   "metadata": {
    "collapsed": false
   },
   "outputs": [
    {
     "data": {
      "text/plain": [
       "[u'lat', u'air', u'lon', u'time']"
      ]
     },
     "execution_count": 6,
     "metadata": {},
     "output_type": "execute_result"
    }
   ],
   "source": [
    "ds.keys()"
   ]
  },
  {
   "cell_type": "code",
   "execution_count": 7,
   "metadata": {
    "collapsed": false
   },
   "outputs": [
    {
     "data": {
      "text/plain": [
       "<xray.DataArray 'air' (time: 2920, lat: 25, lon: 53)>\n",
       "[3869000 values with dtype=float64]\n",
       "Coordinates:\n",
       "  * lat      (lat) float32 75.0 72.5 70.0 67.5 65.0 62.5 60.0 57.5 55.0 52.5 ...\n",
       "  * lon      (lon) float32 200.0 202.5 205.0 207.5 210.0 212.5 215.0 217.5 ...\n",
       "  * time     (time) datetime64[ns] 2013-01-01 2013-01-01T06:00:00 ...\n",
       "Attributes:\n",
       "    long_name: 4xDaily Air temperature at sigma level 995\n",
       "    units: degK\n",
       "    precision: 2\n",
       "    GRIB_id: 11\n",
       "    GRIB_name: TMP\n",
       "    var_desc: Air temperature\n",
       "    dataset: NMC Reanalysis\n",
       "    level_desc: Surface\n",
       "    statistic: Individual Obs\n",
       "    parent_stat: Other\n",
       "    actual_range: [ 185.16  322.1 ]"
      ]
     },
     "execution_count": 7,
     "metadata": {},
     "output_type": "execute_result"
    }
   ],
   "source": [
    "ds.air"
   ]
  },
  {
   "cell_type": "code",
   "execution_count": 8,
   "metadata": {
    "collapsed": false
   },
   "outputs": [
    {
     "data": {
      "text/plain": [
       "Frozen(SortedKeysDict({u'lat': 25, u'lon': 53, u'time': 2920}))"
      ]
     },
     "execution_count": 8,
     "metadata": {},
     "output_type": "execute_result"
    }
   ],
   "source": [
    "ds.dims"
   ]
  },
  {
   "cell_type": "code",
   "execution_count": 9,
   "metadata": {
    "collapsed": false
   },
   "outputs": [
    {
     "data": {
      "text/plain": [
       "OrderedDict([(u'Conventions', u'COARDS'), (u'title', u'4x daily NMC reanalysis (1948)'), (u'description', u'Data is from NMC initialized reanalysis\\n(4x/day).  These are the 0.9950 sigma level values.'), (u'platform', u'Model'), (u'references', u'http://www.esrl.noaa.gov/psd/data/gridded/data.ncep.reanalysis.html')])"
      ]
     },
     "execution_count": 9,
     "metadata": {},
     "output_type": "execute_result"
    }
   ],
   "source": [
    "ds.attrs"
   ]
  },
  {
   "cell_type": "code",
   "execution_count": 10,
   "metadata": {
    "collapsed": true
   },
   "outputs": [],
   "source": [
    "ds.attrs['foo'] = 'bar'"
   ]
  },
  {
   "cell_type": "code",
   "execution_count": 11,
   "metadata": {
    "collapsed": false
   },
   "outputs": [
    {
     "data": {
      "text/plain": [
       "<xray.Dataset>\n",
       "Dimensions:  (lat: 25, lon: 53, time: 2920)\n",
       "Coordinates:\n",
       "  * lat      (lat) float32 75.0 72.5 70.0 67.5 65.0 62.5 60.0 57.5 55.0 52.5 ...\n",
       "  * lon      (lon) float32 200.0 202.5 205.0 207.5 210.0 212.5 215.0 217.5 ...\n",
       "  * time     (time) datetime64[ns] 2013-01-01 2013-01-01T06:00:00 ...\n",
       "Data variables:\n",
       "    air      (time, lat, lon) float64 241.2 242.5 243.5 244.0 244.1 243.9 ...\n",
       "Attributes:\n",
       "    Conventions: COARDS\n",
       "    title: 4x daily NMC reanalysis (1948)\n",
       "    description: Data is from NMC initialized reanalysis\n",
       "(4x/day).  These are the 0.9950 sigma level values.\n",
       "    platform: Model\n",
       "    references: http://www.esrl.noaa.gov/psd/data/gridded/data.ncep.reanalysis.html\n",
       "    foo: bar"
      ]
     },
     "execution_count": 11,
     "metadata": {},
     "output_type": "execute_result"
    }
   ],
   "source": [
    "ds"
   ]
  },
  {
   "cell_type": "code",
   "execution_count": 12,
   "metadata": {
    "collapsed": false
   },
   "outputs": [
    {
     "data": {
      "text/plain": [
       "array([[[ 241.2 ,  242.5 , ...,  235.5 ,  238.6 ],\n",
       "        [ 243.8 ,  244.5 , ...,  235.3 ,  239.3 ],\n",
       "        ..., \n",
       "        [ 295.9 ,  296.2 , ...,  295.9 ,  295.2 ],\n",
       "        [ 296.29,  296.79, ...,  296.79,  296.6 ]],\n",
       "\n",
       "       [[ 242.1 ,  242.7 , ...,  233.6 ,  235.8 ],\n",
       "        [ 243.6 ,  244.1 , ...,  232.5 ,  235.7 ],\n",
       "        ..., \n",
       "        [ 296.2 ,  296.7 , ...,  295.5 ,  295.1 ],\n",
       "        [ 296.29,  297.2 , ...,  296.4 ,  296.6 ]],\n",
       "\n",
       "       ..., \n",
       "       [[ 245.79,  244.79, ...,  243.99,  244.79],\n",
       "        [ 249.89,  249.29, ...,  242.49,  244.29],\n",
       "        ..., \n",
       "        [ 296.29,  297.19, ...,  295.09,  294.39],\n",
       "        [ 297.79,  298.39, ...,  295.49,  295.19]],\n",
       "\n",
       "       [[ 245.09,  244.29, ...,  241.49,  241.79],\n",
       "        [ 249.89,  249.29, ...,  240.29,  241.69],\n",
       "        ..., \n",
       "        [ 296.09,  296.89, ...,  295.69,  295.19],\n",
       "        [ 297.69,  298.09, ...,  296.19,  295.69]]])"
      ]
     },
     "execution_count": 12,
     "metadata": {},
     "output_type": "execute_result"
    }
   ],
   "source": [
    "ds.air.values"
   ]
  },
  {
   "cell_type": "code",
   "execution_count": 13,
   "metadata": {
    "collapsed": false
   },
   "outputs": [
    {
     "data": {
      "text/plain": [
       "(u'time', u'lat', u'lon')"
      ]
     },
     "execution_count": 13,
     "metadata": {},
     "output_type": "execute_result"
    }
   ],
   "source": [
    "ds.air.dims"
   ]
  },
  {
   "cell_type": "code",
   "execution_count": 14,
   "metadata": {
    "collapsed": false
   },
   "outputs": [
    {
     "data": {
      "text/plain": [
       "(2920, 25, 53)"
      ]
     },
     "execution_count": 14,
     "metadata": {},
     "output_type": "execute_result"
    }
   ],
   "source": [
    "ds.air.shape"
   ]
  },
  {
   "cell_type": "code",
   "execution_count": 15,
   "metadata": {
    "collapsed": false
   },
   "outputs": [
    {
     "data": {
      "text/plain": [
       "OrderedDict([(u'long_name', u'4xDaily Air temperature at sigma level 995'), (u'units', u'degK'), (u'precision', 2), (u'GRIB_id', 11), (u'GRIB_name', u'TMP'), (u'var_desc', u'Air temperature'), (u'dataset', u'NMC Reanalysis'), (u'level_desc', u'Surface'), (u'statistic', u'Individual Obs'), (u'parent_stat', u'Other'), (u'actual_range', array([ 185.16,  322.1 ], dtype=float32))])"
      ]
     },
     "execution_count": 15,
     "metadata": {},
     "output_type": "execute_result"
    }
   ],
   "source": [
    "ds.air.attrs"
   ]
  },
  {
   "cell_type": "markdown",
   "metadata": {},
   "source": [
    "#### Saving back to netCDF"
   ]
  },
  {
   "cell_type": "code",
   "execution_count": 19,
   "metadata": {
    "collapsed": false,
    "scrolled": false
   },
   "outputs": [],
   "source": [
    "ds.to_netcdf('another-copy.nc')"
   ]
  },
  {
   "cell_type": "code",
   "execution_count": 21,
   "metadata": {
    "collapsed": false
   },
   "outputs": [
    {
     "name": "stdout",
     "output_type": "stream",
     "text": [
      "netcdf another-copy {\r\n",
      "dimensions:\r\n",
      "\tlat = 25 ;\r\n",
      "\ttime = 2920 ;\r\n",
      "\tlon = 53 ;\r\n",
      "variables:\r\n",
      "\tfloat lat(lat) ;\r\n",
      "\t\tstring lat:standard_name = \"latitude\" ;\r\n",
      "\t\tstring lat:long_name = \"Latitude\" ;\r\n",
      "\t\tstring lat:units = \"degrees_north\" ;\r\n",
      "\t\tstring lat:axis = \"Y\" ;\r\n",
      "\tdouble time(time) ;\r\n",
      "\t\tstring time:standard_name = \"time\" ;\r\n",
      "\t\tstring time:long_name = \"Time\" ;\r\n",
      "\t\tstring time:units = \"hours since 1800-01-01\" ;\r\n",
      "\t\tstring time:calendar = \"standard\" ;\r\n",
      "\tfloat lon(lon) ;\r\n",
      "\t\tstring lon:standard_name = \"longitude\" ;\r\n",
      "\t\tstring lon:long_name = \"Longitude\" ;\r\n",
      "\t\tstring lon:units = \"degrees_east\" ;\r\n",
      "\t\tstring lon:axis = \"X\" ;\r\n",
      "\tushort air(time, lat, lon) ;\r\n",
      "\t\tstring air:long_name = \"4xDaily Air temperature at sigma level 995\" ;\r\n",
      "\t\tstring air:units = \"degK\" ;\r\n",
      "\t\tair:precision = 2s ;\r\n",
      "\t\tair:GRIB_id = 11s ;\r\n",
      "\t\tstring air:GRIB_name = \"TMP\" ;\r\n",
      "\t\tstring air:var_desc = \"Air temperature\" ;\r\n",
      "\t\tstring air:dataset = \"NMC Reanalysis\" ;\r\n",
      "\t\tstring air:level_desc = \"Surface\" ;\r\n",
      "\t\tstring air:statistic = \"Individual Obs\" ;\r\n",
      "\t\tstring air:parent_stat = \"Other\" ;\r\n",
      "\t\tair:actual_range = 185.16f, 322.1f ;\r\n",
      "\t\tair:scale_factor = 0.01 ;\r\n",
      "\r\n",
      "// global attributes:\r\n",
      "\t\tstring :Conventions = \"COARDS\" ;\r\n",
      "\t\tstring :title = \"4x daily NMC reanalysis (1948)\" ;\r\n",
      "\t\tstring :description = \"Data is from NMC initialized reanalysis\\n(4x/day).  These are the 0.9950 sigma level values.\" ;\r\n",
      "\t\tstring :platform = \"Model\" ;\r\n",
      "\t\tstring :references = \"http://www.esrl.noaa.gov/psd/data/gridded/data.ncep.reanalysis.html\" ;\r\n",
      "\t\t:foo = \"bar\" ;\r\n",
      "}\r\n"
     ]
    }
   ],
   "source": [
    "! ncdump -h another-copy.nc"
   ]
  },
  {
   "cell_type": "markdown",
   "metadata": {},
   "source": [
    "### Indexing"
   ]
  },
  {
   "cell_type": "markdown",
   "metadata": {},
   "source": [
    "#### By integer position"
   ]
  },
  {
   "cell_type": "code",
   "execution_count": 28,
   "metadata": {
    "collapsed": false
   },
   "outputs": [
    {
     "data": {
      "text/plain": [
       "<xray.DataArray 'air' (lat: 25, lon: 53)>\n",
       "array([[ 245.09,  244.29, ...,  241.49,  241.79],\n",
       "       [ 249.89,  249.29, ...,  240.29,  241.69],\n",
       "       ..., \n",
       "       [ 296.09,  296.89, ...,  295.69,  295.19],\n",
       "       [ 297.69,  298.09, ...,  296.19,  295.69]])\n",
       "Coordinates:\n",
       "  * lat      (lat) float32 75.0 72.5 70.0 67.5 65.0 62.5 60.0 57.5 55.0 52.5 ...\n",
       "  * lon      (lon) float32 200.0 202.5 205.0 207.5 210.0 212.5 215.0 217.5 ...\n",
       "    time     datetime64[ns] 2014-12-31T18:00:00\n",
       "Attributes:\n",
       "    long_name: 4xDaily Air temperature at sigma level 995\n",
       "    units: degK\n",
       "    precision: 2\n",
       "    GRIB_id: 11\n",
       "    GRIB_name: TMP\n",
       "    var_desc: Air temperature\n",
       "    dataset: NMC Reanalysis\n",
       "    level_desc: Surface\n",
       "    statistic: Individual Obs\n",
       "    parent_stat: Other\n",
       "    actual_range: [ 185.16  322.1 ]"
      ]
     },
     "execution_count": 28,
     "metadata": {},
     "output_type": "execute_result"
    }
   ],
   "source": [
    "ds.air[-1]"
   ]
  },
  {
   "cell_type": "markdown",
   "metadata": {},
   "source": [
    "#### By label along an axis (like pandas)"
   ]
  },
  {
   "cell_type": "code",
   "execution_count": 32,
   "metadata": {
    "collapsed": false
   },
   "outputs": [
    {
     "data": {
      "text/plain": [
       "<xray.DataArray 'air' (lat: 25)>\n",
       "array([ 241.2 ,  243.8 ,  250.  ,  266.5 ,  274.5 ,  272.1 ,  273.7 ,  274.79,  275.9 ,  276.7 ,\n",
       "        277.29,  278.4 ,  280.  ,  282.79,  284.6 ,  286.5 ,  287.9 ,  290.2 ,  293.1 ,  293.79,\n",
       "        295.4 ,  297.  ,  296.6 ,  295.9 ,  296.29])\n",
       "Coordinates:\n",
       "  * lat      (lat) float32 75.0 72.5 70.0 67.5 65.0 62.5 60.0 57.5 55.0 52.5 ...\n",
       "    lon      float32 200.0\n",
       "    time     datetime64[ns] 2013-01-01\n",
       "Attributes:\n",
       "    long_name: 4xDaily Air temperature at sigma level 995\n",
       "    units: degK\n",
       "    precision: 2\n",
       "    GRIB_id: 11\n",
       "    GRIB_name: TMP\n",
       "    var_desc: Air temperature\n",
       "    dataset: NMC Reanalysis\n",
       "    level_desc: Surface\n",
       "    statistic: Individual Obs\n",
       "    parent_stat: Other\n",
       "    actual_range: [ 185.16  322.1 ]"
      ]
     },
     "execution_count": 32,
     "metadata": {},
     "output_type": "execute_result"
    }
   ],
   "source": [
    "ds.air.loc['2013-01-01T00', :, 200]"
   ]
  },
  {
   "cell_type": "markdown",
   "metadata": {},
   "source": [
    "#### With named dimensions"
   ]
  },
  {
   "cell_type": "code",
   "execution_count": 31,
   "metadata": {
    "collapsed": false
   },
   "outputs": [
    {
     "data": {
      "text/plain": [
       "<xray.DataArray 'air' (time: 1460, lat: 25, lon: 53)>\n",
       "array([[[ 241.2 ,  242.5 , ...,  235.5 ,  238.6 ],\n",
       "        [ 243.8 ,  244.5 , ...,  235.3 ,  239.3 ],\n",
       "        ..., \n",
       "        [ 295.9 ,  296.2 , ...,  295.9 ,  295.2 ],\n",
       "        [ 296.29,  296.79, ...,  296.79,  296.6 ]],\n",
       "\n",
       "       [[ 242.1 ,  242.7 , ...,  233.6 ,  235.8 ],\n",
       "        [ 243.6 ,  244.1 , ...,  232.5 ,  235.7 ],\n",
       "        ..., \n",
       "        [ 296.2 ,  296.7 , ...,  295.5 ,  295.1 ],\n",
       "        [ 296.29,  297.2 , ...,  296.4 ,  296.6 ]],\n",
       "\n",
       "       ..., \n",
       "       [[ 251.7 ,  251.3 , ...,  239.7 ,  241.  ],\n",
       "        [ 251.8 ,  252.8 , ...,  240.39,  244.1 ],\n",
       "        ..., \n",
       "        [ 297.  ,  296.6 , ...,  294.6 ,  293.79],\n",
       "        [ 297.4 ,  297.4 , ...,  295.  ,  294.4 ]],\n",
       "\n",
       "       [[ 251.89,  251.2 , ...,  239.89,  240.7 ],\n",
       "        [ 252.3 ,  253.  , ...,  239.5 ,  242.89],\n",
       "        ..., \n",
       "        [ 297.1 ,  296.79, ...,  295.1 ,  294.5 ],\n",
       "        [ 297.29,  297.7 , ...,  295.1 ,  294.7 ]]])\n",
       "Coordinates:\n",
       "  * lat      (lat) float32 75.0 72.5 70.0 67.5 65.0 62.5 60.0 57.5 55.0 52.5 ...\n",
       "  * lon      (lon) float32 200.0 202.5 205.0 207.5 210.0 212.5 215.0 217.5 ...\n",
       "  * time     (time) datetime64[ns] 2013-01-01 2013-01-01T06:00:00 ...\n",
       "Attributes:\n",
       "    long_name: 4xDaily Air temperature at sigma level 995\n",
       "    units: degK\n",
       "    precision: 2\n",
       "    GRIB_id: 11\n",
       "    GRIB_name: TMP\n",
       "    var_desc: Air temperature\n",
       "    dataset: NMC Reanalysis\n",
       "    level_desc: Surface\n",
       "    statistic: Individual Obs\n",
       "    parent_stat: Other\n",
       "    actual_range: [ 185.16  322.1 ]"
      ]
     },
     "execution_count": 31,
     "metadata": {},
     "output_type": "execute_result"
    }
   ],
   "source": [
    "ds.air.sel(time='2013')"
   ]
  },
  {
   "cell_type": "code",
   "execution_count": 34,
   "metadata": {
    "collapsed": false
   },
   "outputs": [
    {
     "data": {
      "text/plain": [
       "<xray.DataArray 'air' (time: 2920, lat: 5, lon: 3)>\n",
       "array([[[ 247.7 ,  246.8 ,  253.39],\n",
       "        [ 251.89,  249.5 ,  253.1 ],\n",
       "        ..., \n",
       "        [ 253.3 ,  249.39,  256.6 ],\n",
       "        [ 254.6 ,  252.3 ,  260.  ]],\n",
       "\n",
       "       [[ 246.  ,  246.8 ,  251.  ],\n",
       "        [ 248.8 ,  248.89,  251.2 ],\n",
       "        ..., \n",
       "        [ 254.6 ,  251.8 ,  252.89],\n",
       "        [ 252.89,  252.1 ,  252.3 ]],\n",
       "\n",
       "       ..., \n",
       "       [[ 259.99,  256.19,  251.69],\n",
       "        [ 259.99,  257.19,  251.79],\n",
       "        ..., \n",
       "        [ 261.19,  254.19,  250.79],\n",
       "        [ 260.39,  254.59,  250.49]],\n",
       "\n",
       "       [[ 255.49,  255.19,  253.09],\n",
       "        [ 260.19,  259.49,  252.69],\n",
       "        ..., \n",
       "        [ 262.39,  257.39,  256.39],\n",
       "        [ 261.49,  258.69,  258.89]]])\n",
       "Coordinates:\n",
       "  * lat      (lat) float32 60.0 57.5 55.0 52.5 50.0\n",
       "  * lon      (lon) float32 260.0 270.0 280.0\n",
       "  * time     (time) datetime64[ns] 2013-01-01 2013-01-01T06:00:00 ...\n",
       "Attributes:\n",
       "    long_name: 4xDaily Air temperature at sigma level 995\n",
       "    units: degK\n",
       "    precision: 2\n",
       "    GRIB_id: 11\n",
       "    GRIB_name: TMP\n",
       "    var_desc: Air temperature\n",
       "    dataset: NMC Reanalysis\n",
       "    level_desc: Surface\n",
       "    statistic: Individual Obs\n",
       "    parent_stat: Other\n",
       "    actual_range: [ 185.16  322.1 ]"
      ]
     },
     "execution_count": 34,
     "metadata": {},
     "output_type": "execute_result"
    }
   ],
   "source": [
    "ds.air.sel(lat=slice(60, 50)).sel(lon=[260, 271, 280], method='nearest')"
   ]
  },
  {
   "cell_type": "markdown",
   "metadata": {},
   "source": [
    "## Computation\n",
    "\n",
    "You can do arithmetic directly on `Dataset` and `DataArray` objects. Labels are preserved, although attributes removed."
   ]
  },
  {
   "cell_type": "code",
   "execution_count": 35,
   "metadata": {
    "collapsed": false
   },
   "outputs": [
    {
     "data": {
      "text/plain": [
       "<xray.Dataset>\n",
       "Dimensions:  (lat: 25, lon: 53, time: 2920)\n",
       "Coordinates:\n",
       "  * lat      (lat) float32 75.0 72.5 70.0 67.5 65.0 62.5 60.0 57.5 55.0 52.5 ...\n",
       "  * lon      (lon) float32 200.0 202.5 205.0 207.5 210.0 212.5 215.0 217.5 ...\n",
       "  * time     (time) datetime64[ns] 2013-01-01 2013-01-01T06:00:00 ...\n",
       "Data variables:\n",
       "    air      (time, lat, lon) float64 482.4 485.0 487.0 488.0 488.2 487.8 ...\n",
       "Attributes:\n",
       "    Conventions: COARDS\n",
       "    title: 4x daily NMC reanalysis (1948)\n",
       "    description: Data is from NMC initialized reanalysis\n",
       "(4x/day).  These are the 0.9950 sigma level values.\n",
       "    platform: Model\n",
       "    references: http://www.esrl.noaa.gov/psd/data/gridded/data.ncep.reanalysis.html\n",
       "    foo: bar"
      ]
     },
     "execution_count": 35,
     "metadata": {},
     "output_type": "execute_result"
    }
   ],
   "source": [
    "2 * ds"
   ]
  },
  {
   "cell_type": "markdown",
   "metadata": {},
   "source": [
    "You can also apply NumPy \"universal functions\" like `np.sqrt` to `DataArray` objects:"
   ]
  },
  {
   "cell_type": "code",
   "execution_count": 36,
   "metadata": {
    "collapsed": false
   },
   "outputs": [
    {
     "data": {
      "text/plain": [
       "<xray.DataArray 'air' (time: 2920, lat: 25, lon: 53)>\n",
       "array([[[ 15.531,  15.572, ...,  15.346,  15.447],\n",
       "        [ 15.614,  15.636, ...,  15.339,  15.469],\n",
       "        ..., \n",
       "        [ 17.202,  17.21 , ...,  17.202,  17.181],\n",
       "        [ 17.213,  17.228, ...,  17.228,  17.222]],\n",
       "\n",
       "       [[ 15.56 ,  15.579, ...,  15.284,  15.356],\n",
       "        [ 15.608,  15.624, ...,  15.248,  15.353],\n",
       "        ..., \n",
       "        [ 17.21 ,  17.225, ...,  17.19 ,  17.178],\n",
       "        [ 17.213,  17.239, ...,  17.216,  17.222]],\n",
       "\n",
       "       ..., \n",
       "       [[ 15.678,  15.646, ...,  15.62 ,  15.646],\n",
       "        [ 15.808,  15.789, ...,  15.572,  15.63 ],\n",
       "        ..., \n",
       "        [ 17.213,  17.239, ...,  17.178,  17.158],\n",
       "        [ 17.257,  17.274, ...,  17.19 ,  17.181]],\n",
       "\n",
       "       [[ 15.655,  15.63 , ...,  15.54 ,  15.55 ],\n",
       "        [ 15.808,  15.789, ...,  15.501,  15.546],\n",
       "        ..., \n",
       "        [ 17.207,  17.23 , ...,  17.196,  17.181],\n",
       "        [ 17.254,  17.265, ...,  17.21 ,  17.196]]])\n",
       "Coordinates:\n",
       "  * lat      (lat) float32 75.0 72.5 70.0 67.5 65.0 62.5 60.0 57.5 55.0 52.5 ...\n",
       "  * lon      (lon) float32 200.0 202.5 205.0 207.5 210.0 212.5 215.0 217.5 ...\n",
       "  * time     (time) datetime64[ns] 2013-01-01 2013-01-01T06:00:00 ..."
      ]
     },
     "execution_count": 36,
     "metadata": {},
     "output_type": "execute_result"
    }
   ],
   "source": [
    "np.sqrt(ds.air)"
   ]
  },
  {
   "cell_type": "code",
   "execution_count": 38,
   "metadata": {
    "collapsed": false
   },
   "outputs": [
    {
     "data": {
      "text/plain": [
       "<xray.Dataset>\n",
       "Dimensions:  (lat: 25, lon: 53, time: 2920)\n",
       "Coordinates:\n",
       "  * lat      (lat) float32 75.0 72.5 70.0 67.5 65.0 62.5 60.0 57.5 55.0 52.5 ...\n",
       "  * lon      (lon) float32 200.0 202.5 205.0 207.5 210.0 212.5 215.0 217.5 ...\n",
       "  * time     (time) datetime64[ns] 2013-01-01 2013-01-01T06:00:00 ...\n",
       "Data variables:\n",
       "    air      (time, lat, lon) float64 15.53 15.57 15.6 15.62 15.62 15.62 ..."
      ]
     },
     "execution_count": 38,
     "metadata": {},
     "output_type": "execute_result"
    }
   ],
   "source": [
    "ds.apply(np.sqrt)"
   ]
  },
  {
   "cell_type": "markdown",
   "metadata": {},
   "source": [
    "xray also implements standard aggregation functions:"
   ]
  },
  {
   "cell_type": "code",
   "execution_count": 39,
   "metadata": {
    "collapsed": false
   },
   "outputs": [
    {
     "data": {
      "text/plain": [
       "<xray.Dataset>\n",
       "Dimensions:  ()\n",
       "Coordinates:\n",
       "    *empty*\n",
       "Data variables:\n",
       "    air      float64 317.4"
      ]
     },
     "execution_count": 39,
     "metadata": {},
     "output_type": "execute_result"
    }
   ],
   "source": [
    "ds.max()"
   ]
  },
  {
   "cell_type": "code",
   "execution_count": 40,
   "metadata": {
    "collapsed": false
   },
   "outputs": [
    {
     "data": {
      "text/plain": [
       "<xray.Dataset>\n",
       "Dimensions:  (lat: 25, lon: 53)\n",
       "Coordinates:\n",
       "  * lat      (lat) float32 75.0 72.5 70.0 67.5 65.0 62.5 60.0 57.5 55.0 52.5 ...\n",
       "  * lon      (lon) float32 200.0 202.5 205.0 207.5 210.0 212.5 215.0 217.5 ...\n",
       "Data variables:\n",
       "    air      (lat, lon) float64 260.4 260.2 259.9 259.5 259.0 258.6 258.2 ..."
      ]
     },
     "execution_count": 40,
     "metadata": {},
     "output_type": "execute_result"
    }
   ],
   "source": [
    "ds.mean(dim='time')"
   ]
  },
  {
   "cell_type": "code",
   "execution_count": 41,
   "metadata": {
    "collapsed": false
   },
   "outputs": [
    {
     "data": {
      "text/plain": [
       "<xray.Dataset>\n",
       "Dimensions:  (time: 2920)\n",
       "Coordinates:\n",
       "  * time     (time) datetime64[ns] 2013-01-01 2013-01-01T06:00:00 ...\n",
       "Data variables:\n",
       "    air      (time) float64 277.5 276.7 276.2 276.8 277.0 275.3 275.6 275.4 ..."
      ]
     },
     "execution_count": 41,
     "metadata": {},
     "output_type": "execute_result"
    }
   ],
   "source": [
    "ds.median(dim=['lat', 'lon'])"
   ]
  },
  {
   "cell_type": "markdown",
   "metadata": {},
   "source": [
    "## Exercise\n",
    "\n",
    "(a) Calculate the maximum air surface temperature over time in the vicinity of Boulder, CO (latitude=40, longitude=255)"
   ]
  },
  {
   "cell_type": "code",
   "execution_count": 45,
   "metadata": {
    "collapsed": false
   },
   "outputs": [
    {
     "data": {
      "text/plain": [
       "<xray.Dataset>\n",
       "Dimensions:  ()\n",
       "Coordinates:\n",
       "    *empty*\n",
       "Data variables:\n",
       "    air      float64 302.8"
      ]
     },
     "execution_count": 45,
     "metadata": {},
     "output_type": "execute_result"
    }
   ],
   "source": [
    "ds.sel(lat=40, lon=255).max('time')"
   ]
  },
  {
   "cell_type": "markdown",
   "metadata": {},
   "source": [
    "(b) Convert the dataset from Kelvin to degrees Celsius and save to a new file. Don't forget to fix the temperature units! Recall `degC = degK - 273`."
   ]
  },
  {
   "cell_type": "code",
   "execution_count": 47,
   "metadata": {
    "collapsed": false
   },
   "outputs": [],
   "source": [
    "(ds - 273).to_netcdf('in-celsius.nc')"
   ]
  },
  {
   "cell_type": "markdown",
   "metadata": {},
   "source": [
    "----------------------"
   ]
  },
  {
   "cell_type": "markdown",
   "metadata": {},
   "source": [
    "## Converting to pandas\n",
    "\n",
    "[Pandas](http://pandas.pydata.org) is the best way to work with tabular data in Python. It's also a highly flexible data analysis tool, with way more functionality than xray.\n",
    "\n",
    "The `pandas.DataFrame` is the work-horse pandas object, on which the `xray.Dataset` was based. The `pandas.Series` corresponds to the `xray.DataArray`"
   ]
  },
  {
   "cell_type": "code",
   "execution_count": 49,
   "metadata": {
    "collapsed": false,
    "scrolled": false
   },
   "outputs": [
    {
     "data": {
      "text/html": [
       "<div>\n",
       "<table border=\"1\" class=\"dataframe\">\n",
       "  <thead>\n",
       "    <tr style=\"text-align: right;\">\n",
       "      <th></th>\n",
       "      <th></th>\n",
       "      <th></th>\n",
       "      <th>air</th>\n",
       "    </tr>\n",
       "    <tr>\n",
       "      <th>lat</th>\n",
       "      <th>lon</th>\n",
       "      <th>time</th>\n",
       "      <th></th>\n",
       "    </tr>\n",
       "  </thead>\n",
       "  <tbody>\n",
       "    <tr>\n",
       "      <th rowspan=\"5\" valign=\"top\">75</th>\n",
       "      <th rowspan=\"5\" valign=\"top\">200</th>\n",
       "      <th>2013-01-01 00:00:00</th>\n",
       "      <td>241.20</td>\n",
       "    </tr>\n",
       "    <tr>\n",
       "      <th>2013-01-01 06:00:00</th>\n",
       "      <td>242.10</td>\n",
       "    </tr>\n",
       "    <tr>\n",
       "      <th>2013-01-01 12:00:00</th>\n",
       "      <td>242.30</td>\n",
       "    </tr>\n",
       "    <tr>\n",
       "      <th>2013-01-01 18:00:00</th>\n",
       "      <td>241.89</td>\n",
       "    </tr>\n",
       "    <tr>\n",
       "      <th>2013-01-02 00:00:00</th>\n",
       "      <td>243.20</td>\n",
       "    </tr>\n",
       "  </tbody>\n",
       "</table>\n",
       "</div>"
      ],
      "text/plain": [
       "                                air\n",
       "lat lon time                       \n",
       "75  200 2013-01-01 00:00:00  241.20\n",
       "        2013-01-01 06:00:00  242.10\n",
       "        2013-01-01 12:00:00  242.30\n",
       "        2013-01-01 18:00:00  241.89\n",
       "        2013-01-02 00:00:00  243.20"
      ]
     },
     "execution_count": 49,
     "metadata": {},
     "output_type": "execute_result"
    }
   ],
   "source": [
    "ds.to_dataframe().head()"
   ]
  },
  {
   "cell_type": "markdown",
   "metadata": {},
   "source": [
    "Pandas provides very robust tools for reading and writing CSV:"
   ]
  },
  {
   "cell_type": "code",
   "execution_count": 38,
   "metadata": {
    "collapsed": false
   },
   "outputs": [
    {
     "name": "stdout",
     "output_type": "stream",
     "text": [
      "lat,lon,time,air\n",
      "75.0,200.0,2013-01-01 00:00:00,241.200012207\n",
      "75.0,200.0,2013-01-01 06:00:00,242.100006104\n",
      "75.0,200.0,2013-01-01 12:00:00,242.300018311\n",
      "75.0,200.0,2013-01-01 18:00:00,241.899993896\n",
      "75.0,200.0,2013-01-02 00:00:00,243.200012207\n",
      "75.0,200.0,2013-01-02 06:00:00,244.100006104\n",
      "75.0,200.0,2013-01-02 12:00:00,243.300018311\n",
      "75.0,200.0,2013-01-02 18:00:00,243.800018311\n",
      "75.0,200.0,2013-01-03 00:00:00,244.800018311\n",
      "75.0,200.0,2013-01-03 06:00:00,243.899993896\n",
      "\n"
     ]
    }
   ],
   "source": [
    "print ds.to_dataframe().head(10).to_csv()"
   ]
  },
  {
   "cell_type": "markdown",
   "metadata": {},
   "source": [
    "Of course, it's just as easy to convert back from pandas:"
   ]
  },
  {
   "cell_type": "code",
   "execution_count": 50,
   "metadata": {
    "collapsed": false
   },
   "outputs": [],
   "source": [
    "df = pd.DataFrame({'x': [1, 2, 3], 'y': ['a', 'b', 'c']}).set_index('x')"
   ]
  },
  {
   "cell_type": "code",
   "execution_count": 51,
   "metadata": {
    "collapsed": false
   },
   "outputs": [
    {
     "data": {
      "text/html": [
       "<div>\n",
       "<table border=\"1\" class=\"dataframe\">\n",
       "  <thead>\n",
       "    <tr style=\"text-align: right;\">\n",
       "      <th></th>\n",
       "      <th>y</th>\n",
       "    </tr>\n",
       "    <tr>\n",
       "      <th>x</th>\n",
       "      <th></th>\n",
       "    </tr>\n",
       "  </thead>\n",
       "  <tbody>\n",
       "    <tr>\n",
       "      <th>1</th>\n",
       "      <td>a</td>\n",
       "    </tr>\n",
       "    <tr>\n",
       "      <th>2</th>\n",
       "      <td>b</td>\n",
       "    </tr>\n",
       "    <tr>\n",
       "      <th>3</th>\n",
       "      <td>c</td>\n",
       "    </tr>\n",
       "  </tbody>\n",
       "</table>\n",
       "</div>"
      ],
      "text/plain": [
       "   y\n",
       "x   \n",
       "1  a\n",
       "2  b\n",
       "3  c"
      ]
     },
     "execution_count": 51,
     "metadata": {},
     "output_type": "execute_result"
    }
   ],
   "source": [
    "df"
   ]
  },
  {
   "cell_type": "code",
   "execution_count": 52,
   "metadata": {
    "collapsed": false
   },
   "outputs": [
    {
     "data": {
      "text/plain": [
       "<xray.Dataset>\n",
       "Dimensions:  (x: 3)\n",
       "Coordinates:\n",
       "  * x        (x) int64 1 2 3\n",
       "Data variables:\n",
       "    y        (x) object 'a' 'b' 'c'"
      ]
     },
     "execution_count": 52,
     "metadata": {},
     "output_type": "execute_result"
    }
   ],
   "source": [
    "xray.Dataset.from_dataframe(df)"
   ]
  },
  {
   "cell_type": "markdown",
   "metadata": {},
   "source": [
    "### Things you can do with pandas"
   ]
  },
  {
   "cell_type": "markdown",
   "metadata": {},
   "source": [
    "Lots of method we haven't implemented in xray yet:"
   ]
  },
  {
   "cell_type": "code",
   "execution_count": 53,
   "metadata": {
    "collapsed": false
   },
   "outputs": [
    {
     "data": {
      "text/html": [
       "<div>\n",
       "<table border=\"1\" class=\"dataframe\">\n",
       "  <thead>\n",
       "    <tr style=\"text-align: right;\">\n",
       "      <th></th>\n",
       "      <th>air</th>\n",
       "    </tr>\n",
       "  </thead>\n",
       "  <tbody>\n",
       "    <tr>\n",
       "      <th>count</th>\n",
       "      <td>3869000.000000</td>\n",
       "    </tr>\n",
       "    <tr>\n",
       "      <th>mean</th>\n",
       "      <td>281.255037</td>\n",
       "    </tr>\n",
       "    <tr>\n",
       "      <th>std</th>\n",
       "      <td>16.320412</td>\n",
       "    </tr>\n",
       "    <tr>\n",
       "      <th>min</th>\n",
       "      <td>221.000000</td>\n",
       "    </tr>\n",
       "    <tr>\n",
       "      <th>25%</th>\n",
       "      <td>272.200000</td>\n",
       "    </tr>\n",
       "    <tr>\n",
       "      <th>50%</th>\n",
       "      <td>285.200000</td>\n",
       "    </tr>\n",
       "    <tr>\n",
       "      <th>75%</th>\n",
       "      <td>294.600000</td>\n",
       "    </tr>\n",
       "    <tr>\n",
       "      <th>max</th>\n",
       "      <td>317.400000</td>\n",
       "    </tr>\n",
       "  </tbody>\n",
       "</table>\n",
       "</div>"
      ],
      "text/plain": [
       "                  air\n",
       "count  3869000.000000\n",
       "mean       281.255037\n",
       "std         16.320412\n",
       "min        221.000000\n",
       "25%        272.200000\n",
       "50%        285.200000\n",
       "75%        294.600000\n",
       "max        317.400000"
      ]
     },
     "execution_count": 53,
     "metadata": {},
     "output_type": "execute_result"
    }
   ],
   "source": [
    "ds.to_dataframe().describe()"
   ]
  },
  {
   "cell_type": "code",
   "execution_count": 54,
   "metadata": {
    "collapsed": false
   },
   "outputs": [
    {
     "data": {
      "text/html": [
       "<div>\n",
       "<table border=\"1\" class=\"dataframe\">\n",
       "  <thead>\n",
       "    <tr style=\"text-align: right;\">\n",
       "      <th></th>\n",
       "      <th></th>\n",
       "      <th></th>\n",
       "      <th>air</th>\n",
       "    </tr>\n",
       "    <tr>\n",
       "      <th>lat</th>\n",
       "      <th>lon</th>\n",
       "      <th>time</th>\n",
       "      <th></th>\n",
       "    </tr>\n",
       "  </thead>\n",
       "  <tbody>\n",
       "    <tr>\n",
       "      <th>72.5</th>\n",
       "      <th>242.5</th>\n",
       "      <th>2013-08-11 12:00:00</th>\n",
       "      <td>284.90</td>\n",
       "    </tr>\n",
       "    <tr>\n",
       "      <th>22.5</th>\n",
       "      <th>220.0</th>\n",
       "      <th>2014-05-16 00:00:00</th>\n",
       "      <td>293.29</td>\n",
       "    </tr>\n",
       "    <tr>\n",
       "      <th>47.5</th>\n",
       "      <th>257.5</th>\n",
       "      <th>2014-12-11 12:00:00</th>\n",
       "      <td>275.79</td>\n",
       "    </tr>\n",
       "    <tr>\n",
       "      <th>40.0</th>\n",
       "      <th>235.0</th>\n",
       "      <th>2013-05-09 00:00:00</th>\n",
       "      <td>286.90</td>\n",
       "    </tr>\n",
       "    <tr>\n",
       "      <th>27.5</th>\n",
       "      <th>237.5</th>\n",
       "      <th>2014-12-17 06:00:00</th>\n",
       "      <td>290.39</td>\n",
       "    </tr>\n",
       "    <tr>\n",
       "      <th>75.0</th>\n",
       "      <th>230.0</th>\n",
       "      <th>2013-09-09 00:00:00</th>\n",
       "      <td>268.50</td>\n",
       "    </tr>\n",
       "    <tr>\n",
       "      <th>52.5</th>\n",
       "      <th>220.0</th>\n",
       "      <th>2013-02-26 06:00:00</th>\n",
       "      <td>278.20</td>\n",
       "    </tr>\n",
       "    <tr>\n",
       "      <th>32.5</th>\n",
       "      <th>217.5</th>\n",
       "      <th>2014-06-17 06:00:00</th>\n",
       "      <td>292.70</td>\n",
       "    </tr>\n",
       "    <tr>\n",
       "      <th>55.0</th>\n",
       "      <th>222.5</th>\n",
       "      <th>2014-01-04 06:00:00</th>\n",
       "      <td>279.10</td>\n",
       "    </tr>\n",
       "    <tr>\n",
       "      <th>27.5</th>\n",
       "      <th>247.5</th>\n",
       "      <th>2014-08-22 06:00:00</th>\n",
       "      <td>301.90</td>\n",
       "    </tr>\n",
       "  </tbody>\n",
       "</table>\n",
       "</div>"
      ],
      "text/plain": [
       "                                   air\n",
       "lat  lon   time                       \n",
       "72.5 242.5 2013-08-11 12:00:00  284.90\n",
       "22.5 220.0 2014-05-16 00:00:00  293.29\n",
       "47.5 257.5 2014-12-11 12:00:00  275.79\n",
       "40.0 235.0 2013-05-09 00:00:00  286.90\n",
       "27.5 237.5 2014-12-17 06:00:00  290.39\n",
       "75.0 230.0 2013-09-09 00:00:00  268.50\n",
       "52.5 220.0 2013-02-26 06:00:00  278.20\n",
       "32.5 217.5 2014-06-17 06:00:00  292.70\n",
       "55.0 222.5 2014-01-04 06:00:00  279.10\n",
       "27.5 247.5 2014-08-22 06:00:00  301.90"
      ]
     },
     "execution_count": 54,
     "metadata": {},
     "output_type": "execute_result"
    }
   ],
   "source": [
    "ds.to_dataframe().sample(10)"
   ]
  },
  {
   "cell_type": "markdown",
   "metadata": {},
   "source": [
    "xray doesn't yet have plotting, so we export to pandas:"
   ]
  },
  {
   "cell_type": "code",
   "execution_count": 44,
   "metadata": {
    "collapsed": false
   },
   "outputs": [
    {
     "data": {
      "text/plain": [
       "<matplotlib.axes._subplots.AxesSubplot at 0x10c2ddf10>"
      ]
     },
     "execution_count": 44,
     "metadata": {},
     "output_type": "execute_result"
    },
    {
     "data": {
      "image/png": "[encoded data removed]",
      "text/plain": [
       "<matplotlib.figure.Figure at 0x10c2dd550>"
      ]
     },
     "metadata": {},
     "output_type": "display_data"
    }
   ],
   "source": [
    "ds.mean(['lat', 'lon']).to_dataframe().plot()"
   ]
  },
  {
   "cell_type": "markdown",
   "metadata": {},
   "source": [
    "We can also use matplotlib directly. This is useful for 2D plotting (not supported by pandas):"
   ]
  },
  {
   "cell_type": "code",
   "execution_count": 55,
   "metadata": {
    "collapsed": false
   },
   "outputs": [
    {
     "data": {
      "text/plain": [
       "<matplotlib.colorbar.Colorbar instance at 0x113da2050>"
      ]
     },
     "execution_count": 55,
     "metadata": {},
     "output_type": "execute_result"
    },
    {
     "data": {
      "image/png": "[encoded data removed]",
      "text/plain": [
       "<matplotlib.figure.Figure at 0x1137145d0>"
      ]
     },
     "metadata": {},
     "output_type": "display_data"
    }
   ],
   "source": [
    "plt.contourf(ds.lon, ds.lat, ds.min('time').air, 20, cmap='Spectral_r')\n",
    "plt.colorbar()"
   ]
  },
  {
   "cell_type": "markdown",
   "metadata": {},
   "source": [
    "## Time series"
   ]
  },
  {
   "cell_type": "markdown",
   "metadata": {},
   "source": [
    "Xray implements the \"split-apply-combine\" paradigm with `groupby`. This works really well for calculating climatologies:"
   ]
  },
  {
   "cell_type": "code",
   "execution_count": 56,
   "metadata": {
    "collapsed": false
   },
   "outputs": [
    {
     "data": {
      "text/plain": [
       "<xray.Dataset>\n",
       "Dimensions:  (season: 4)\n",
       "Coordinates:\n",
       "  * season   (season) object 'DJF' 'JJA' 'MAM' 'SON'\n",
       "Data variables:\n",
       "    air      (season) float64 273.6 289.2 279.0 283.0"
      ]
     },
     "execution_count": 56,
     "metadata": {},
     "output_type": "execute_result"
    }
   ],
   "source": [
    "ds.groupby('time.season').mean()"
   ]
  },
  {
   "cell_type": "code",
   "execution_count": 57,
   "metadata": {
    "collapsed": true
   },
   "outputs": [],
   "source": [
    "clim = ds.groupby('time.month').mean('time')"
   ]
  },
  {
   "cell_type": "code",
   "execution_count": 58,
   "metadata": {
    "collapsed": false
   },
   "outputs": [
    {
     "data": {
      "text/plain": [
       "<xray.Dataset>\n",
       "Dimensions:  (lat: 25, lon: 53, month: 12)\n",
       "Coordinates:\n",
       "  * lat      (lat) float32 75.0 72.5 70.0 67.5 65.0 62.5 60.0 57.5 55.0 52.5 ...\n",
       "  * lon      (lon) float32 200.0 202.5 205.0 207.5 210.0 212.5 215.0 217.5 ...\n",
       "  * month    (month) int64 1 2 3 4 5 6 7 8 9 10 11 12\n",
       "Data variables:\n",
       "    air      (month, lat, lon) float64 246.3 246.4 246.2 245.8 245.2 244.6 ..."
      ]
     },
     "execution_count": 58,
     "metadata": {},
     "output_type": "execute_result"
    }
   ],
   "source": [
    "clim"
   ]
  },
  {
   "cell_type": "markdown",
   "metadata": {},
   "source": [
    "You can also do arithmetic with groupby objects, which repeats the arithmetic over each group:"
   ]
  },
  {
   "cell_type": "code",
   "execution_count": 59,
   "metadata": {
    "collapsed": true
   },
   "outputs": [],
   "source": [
    "anomalies = ds.groupby('time.month') - clim"
   ]
  },
  {
   "cell_type": "code",
   "execution_count": 60,
   "metadata": {
    "collapsed": false
   },
   "outputs": [
    {
     "data": {
      "text/plain": [
       "<xray.Dataset>\n",
       "Dimensions:  (lat: 25, lon: 53, time: 2920)\n",
       "Coordinates:\n",
       "  * lat      (lat) float32 75.0 72.5 70.0 67.5 65.0 62.5 60.0 57.5 55.0 52.5 ...\n",
       "  * lon      (lon) float32 200.0 202.5 205.0 207.5 210.0 212.5 215.0 217.5 ...\n",
       "    month    (time) int32 1 1 1 1 1 1 1 1 1 1 1 1 1 1 1 1 1 1 1 1 1 1 1 1 1 ...\n",
       "  * time     (time) datetime64[ns] 2013-01-01 2013-01-01T06:00:00 ...\n",
       "Data variables:\n",
       "    air      (time, lat, lon) float64 -5.15 -3.886 -2.715 -1.812 -1.125 ...\n",
       "Attributes:\n",
       "    Conventions: COARDS\n",
       "    title: 4x daily NMC reanalysis (1948)\n",
       "    description: Data is from NMC initialized reanalysis\n",
       "(4x/day).  These are the 0.9950 sigma level values.\n",
       "    platform: Model\n",
       "    references: http://www.esrl.noaa.gov/psd/data/gridded/data.ncep.reanalysis.html\n",
       "    foo: bar"
      ]
     },
     "execution_count": 60,
     "metadata": {},
     "output_type": "execute_result"
    }
   ],
   "source": [
    "anomalies"
   ]
  },
  {
   "cell_type": "markdown",
   "metadata": {},
   "source": [
    "Resample adjusts a time series to a new resolution:"
   ]
  },
  {
   "cell_type": "code",
   "execution_count": 24,
   "metadata": {
    "collapsed": true
   },
   "outputs": [],
   "source": [
    "tmin = ds.air.resample('24H', dim='time', how='min')\n",
    "tmax = ds.air.resample('24H', dim='time', how='max')"
   ]
  },
  {
   "cell_type": "code",
   "execution_count": 25,
   "metadata": {
    "collapsed": false
   },
   "outputs": [
    {
     "data": {
      "text/plain": [
       "<xray.DataArray 'air' (lat: 25, lon: 53)>\n",
       "array([[ 249.6 ,  250.1 , ...,  243.5 ,  244.39],\n",
       "       [ 250.39,  250.5 , ...,  245.3 ,  246.89],\n",
       "       ..., \n",
       "       [ 295.4 ,  295.1 , ...,  294.6 ,  294.1 ],\n",
       "       [ 296.  ,  296.29, ...,  295.1 ,  295.  ]])\n",
       "Coordinates:\n",
       "  * lat      (lat) float32 75.0 72.5 70.0 67.5 65.0 62.5 60.0 57.5 55.0 52.5 ...\n",
       "  * lon      (lon) float32 200.0 202.5 205.0 207.5 210.0 212.5 215.0 217.5 ...\n",
       "    time     datetime64[ns] 2013-04-03\n",
       "Attributes:\n",
       "    long_name: 4xDaily Air temperature at sigma level 995\n",
       "    units: degK\n",
       "    precision: 2\n",
       "    GRIB_id: 11\n",
       "    GRIB_name: TMP\n",
       "    var_desc: Air temperature\n",
       "    dataset: NMC Reanalysis\n",
       "    level_desc: Surface\n",
       "    statistic: Individual Obs\n",
       "    parent_stat: Other\n",
       "    actual_range: [ 185.16  322.1 ]"
      ]
     },
     "execution_count": 25,
     "metadata": {},
     "output_type": "execute_result"
    }
   ],
   "source": [
    "tmin.sel(time='2013-04-03T03:33', method='nearest')"
   ]
  },
  {
   "cell_type": "code",
   "execution_count": 26,
   "metadata": {
    "collapsed": false
   },
   "outputs": [],
   "source": [
    "ds_extremes = xray.Dataset({'tmin': tmin, 'tmax': tmax})"
   ]
  },
  {
   "cell_type": "code",
   "execution_count": 27,
   "metadata": {
    "collapsed": false
   },
   "outputs": [
    {
     "data": {
      "text/plain": [
       "<xray.Dataset>\n",
       "Dimensions:  (lat: 25, lon: 53, time: 730)\n",
       "Coordinates:\n",
       "  * lat      (lat) float32 75.0 72.5 70.0 67.5 65.0 62.5 60.0 57.5 55.0 52.5 ...\n",
       "  * lon      (lon) float32 200.0 202.5 205.0 207.5 210.0 212.5 215.0 217.5 ...\n",
       "  * time     (time) datetime64[ns] 2013-01-01 2013-01-02 2013-01-03 ...\n",
       "Data variables:\n",
       "    tmax     (time, lat, lon) float64 242.3 242.7 243.5 244.0 244.1 243.9 ...\n",
       "    tmin     (time, lat, lon) float64 241.2 241.8 241.8 242.1 242.6 243.3 ..."
      ]
     },
     "execution_count": 27,
     "metadata": {},
     "output_type": "execute_result"
    }
   ],
   "source": [
    "ds_extremes"
   ]
  },
  {
   "cell_type": "markdown",
   "metadata": {},
   "source": [
    "-------------------"
   ]
  },
  {
   "cell_type": "markdown",
   "metadata": {},
   "source": [
    "## Exercises"
   ]
  },
  {
   "cell_type": "markdown",
   "metadata": {},
   "source": [
    "(c) Calculate anomalies for `tmin`. Plot a 2D map of these anomalies for `2014-12-31`."
   ]
  },
  {
   "cell_type": "code",
   "execution_count": 30,
   "metadata": {
    "collapsed": false
   },
   "outputs": [],
   "source": [
    "tmin_clim = tmin.groupby('time.month').mean('time')\n",
    "tmin_anom = tmin.groupby('time.month') - tmin_clim"
   ]
  },
  {
   "cell_type": "code",
   "execution_count": 38,
   "metadata": {
    "collapsed": false
   },
   "outputs": [
    {
     "data": {
      "text/plain": [
       "<matplotlib.colorbar.Colorbar instance at 0x110568c20>"
      ]
     },
     "execution_count": 38,
     "metadata": {},
     "output_type": "execute_result"
    },
    {
     "data": {
      "image/png": "[encoded data removed]",
      "text/plain": [
       "<matplotlib.figure.Figure at 0x1106c80d0>"
      ]
     },
     "metadata": {},
     "output_type": "display_data"
    }
   ],
   "source": [
    "plt.contourf(ds.lon, ds.lat, tmin_anom.sel(time='2014-12-31'), 20, cmap='Spectral')\n",
    "plt.colorbar()"
   ]
  },
  {
   "cell_type": "markdown",
   "metadata": {},
   "source": [
    "(d) Resample the original dataset to a monthly average, average across space and plot the time-series. (Hint: resampling uses `'1MS'` to indicate month-start.)"
   ]
  },
  {
   "cell_type": "code",
   "execution_count": 79,
   "metadata": {
    "collapsed": false
   },
   "outputs": [
    {
     "data": {
      "text/plain": [
       "<matplotlib.axes._subplots.AxesSubplot at 0x120815290>"
      ]
     },
     "execution_count": 79,
     "metadata": {},
     "output_type": "execute_result"
    },
    {
     "data": {
      "image/png": "[encoded data removed]",
      "text/plain": [
       "<matplotlib.figure.Figure at 0x113666990>"
      ]
     },
     "metadata": {},
     "output_type": "display_data"
    }
   ],
   "source": [
    "ds.resample('1MS', dim='time').mean(['lat', 'lon']).to_dataframe().plot()"
   ]
  },
  {
   "cell_type": "markdown",
   "metadata": {},
   "source": [
    "-------------------"
   ]
  },
  {
   "cell_type": "markdown",
   "metadata": {},
   "source": [
    "## xray does (fast) automatic alignment"
   ]
  },
  {
   "cell_type": "markdown",
   "metadata": {},
   "source": [
    "What happens if you multiple an array with dimensions `(time, latitude, longitude)` with an array with dimensions `(time,)`?"
   ]
  },
  {
   "cell_type": "code",
   "execution_count": 94,
   "metadata": {
    "collapsed": false
   },
   "outputs": [
    {
     "data": {
      "text/plain": [
       "<xray.Dataset>\n",
       "Dimensions:  (lat: 25, lon: 53, time: 2920)\n",
       "Coordinates:\n",
       "  * lat      (lat) float32 75.0 72.5 70.0 67.5 65.0 62.5 60.0 57.5 55.0 52.5 ...\n",
       "  * lon      (lon) float32 200.0 202.5 205.0 207.5 210.0 212.5 215.0 217.5 ...\n",
       "  * time     (time) datetime64[ns] 2013-01-01 2013-01-01T06:00:00 ...\n",
       "Data variables:\n",
       "    air      (time, lat, lon) float64 -32.97 -31.67 -30.67 -30.17 -30.07 ...\n",
       "Attributes:\n",
       "    Conventions: COARDS\n",
       "    title: 4x daily NMC reanalysis (1948)\n",
       "    description: Data is from NMC initialized reanalysis\n",
       "(4x/day).  These are the 0.9950 sigma level values.\n",
       "    platform: Model\n",
       "    references: http://www.esrl.noaa.gov/psd/data/gridded/data.ncep.reanalysis.html\n",
       "    foo: bar"
      ]
     },
     "execution_count": 94,
     "metadata": {},
     "output_type": "execute_result"
    }
   ],
   "source": [
    "ds - ds.mean(['lat', 'lon'])"
   ]
  },
  {
   "cell_type": "markdown",
   "metadata": {},
   "source": [
    "Unlike with NumPy arrays, it works! Dimension names are paired up; mismatched dimensions are looped over, like broadcasting in NumPy.\n",
    "\n",
    "Similarly, notice that `.T` transposes an array:"
   ]
  },
  {
   "cell_type": "code",
   "execution_count": 97,
   "metadata": {
    "collapsed": false
   },
   "outputs": [
    {
     "data": {
      "text/plain": [
       "(u'lon', u'lat', u'time')"
      ]
     },
     "execution_count": 97,
     "metadata": {},
     "output_type": "execute_result"
    }
   ],
   "source": [
    "ds.air.T.dims"
   ]
  },
  {
   "cell_type": "markdown",
   "metadata": {},
   "source": [
    "We can subtract an array from its transpose:"
   ]
  },
  {
   "cell_type": "code",
   "execution_count": 96,
   "metadata": {
    "collapsed": false
   },
   "outputs": [
    {
     "data": {
      "text/plain": [
       "<xray.DataArray 'air' (time: 2920, lat: 25, lon: 53)>\n",
       "array([[[ 0.,  0., ...,  0.,  0.],\n",
       "        [ 0.,  0., ...,  0.,  0.],\n",
       "        ..., \n",
       "        [ 0.,  0., ...,  0.,  0.],\n",
       "        [ 0.,  0., ...,  0.,  0.]],\n",
       "\n",
       "       [[ 0.,  0., ...,  0.,  0.],\n",
       "        [ 0.,  0., ...,  0.,  0.],\n",
       "        ..., \n",
       "        [ 0.,  0., ...,  0.,  0.],\n",
       "        [ 0.,  0., ...,  0.,  0.]],\n",
       "\n",
       "       ..., \n",
       "       [[ 0.,  0., ...,  0.,  0.],\n",
       "        [ 0.,  0., ...,  0.,  0.],\n",
       "        ..., \n",
       "        [ 0.,  0., ...,  0.,  0.],\n",
       "        [ 0.,  0., ...,  0.,  0.]],\n",
       "\n",
       "       [[ 0.,  0., ...,  0.,  0.],\n",
       "        [ 0.,  0., ...,  0.,  0.],\n",
       "        ..., \n",
       "        [ 0.,  0., ...,  0.,  0.],\n",
       "        [ 0.,  0., ...,  0.,  0.]]])\n",
       "Coordinates:\n",
       "  * lat      (lat) float32 75.0 72.5 70.0 67.5 65.0 62.5 60.0 57.5 55.0 52.5 ...\n",
       "  * lon      (lon) float32 200.0 202.5 205.0 207.5 210.0 212.5 215.0 217.5 ...\n",
       "  * time     (time) datetime64[ns] 2013-01-01 2013-01-01T06:00:00 ..."
      ]
     },
     "execution_count": 96,
     "metadata": {},
     "output_type": "execute_result"
    }
   ],
   "source": [
    "ds.air - ds.air.T"
   ]
  },
  {
   "cell_type": "markdown",
   "metadata": {},
   "source": [
    "Finally, note that xray also aligns based on coordinate labels; the result has the intersection of the argument labels:"
   ]
  },
  {
   "cell_type": "code",
   "execution_count": 100,
   "metadata": {
    "collapsed": false
   },
   "outputs": [
    {
     "data": {
      "text/plain": [
       "<xray.Dataset>\n",
       "Dimensions:  (lat: 25, lon: 53, time: 1460)\n",
       "Coordinates:\n",
       "  * lat      (lat) float32 75.0 72.5 70.0 67.5 65.0 62.5 60.0 57.5 55.0 52.5 ...\n",
       "  * time     (time) datetime64[ns] 2014-01-01 2014-01-01T06:00:00 ...\n",
       "  * lon      (lon) float32 200.0 202.5 205.0 207.5 210.0 212.5 215.0 217.5 ...\n",
       "Data variables:\n",
       "    air      (time, lat, lon) float64 252.3 251.2 250.0 248.8 247.5 246.3 ...\n",
       "Attributes:\n",
       "    Conventions: COARDS\n",
       "    title: 4x daily NMC reanalysis (1948)\n",
       "    description: Data is from NMC initialized reanalysis\n",
       "(4x/day).  These are the 0.9950 sigma level values.\n",
       "    platform: Model\n",
       "    references: http://www.esrl.noaa.gov/psd/data/gridded/data.ncep.reanalysis.html\n",
       "    foo: bar"
      ]
     },
     "execution_count": 100,
     "metadata": {},
     "output_type": "execute_result"
    }
   ],
   "source": [
    "ds.sel(time='2014')"
   ]
  },
  {
   "cell_type": "code",
   "execution_count": 116,
   "metadata": {
    "collapsed": false
   },
   "outputs": [
    {
     "data": {
      "text/plain": [
       "<xray.Dataset>\n",
       "Dimensions:  (lat: 2, lon: 53, time: 124)\n",
       "Coordinates:\n",
       "  * lat      (lat) float64 60.0 55.0\n",
       "  * lon      (lon) float32 200.0 202.5 205.0 207.5 210.0 212.5 215.0 217.5 ...\n",
       "  * time     (time) datetime64[ns] 2014-01-01 2014-01-01T06:00:00 ...\n",
       "Data variables:\n",
       "    air      (time, lat, lon) float64 0.0 0.0 0.0 0.0 0.0 0.0 0.0 0.0 0.0 ...\n",
       "Attributes:\n",
       "    Conventions: COARDS\n",
       "    title: 4x daily NMC reanalysis (1948)\n",
       "    description: Data is from NMC initialized reanalysis\n",
       "(4x/day).  These are the 0.9950 sigma level values.\n",
       "    platform: Model\n",
       "    references: http://www.esrl.noaa.gov/psd/data/gridded/data.ncep.reanalysis.html"
      ]
     },
     "execution_count": 116,
     "metadata": {},
     "output_type": "execute_result"
    }
   ],
   "source": [
    "ds.sel(lat=[60, 55]) - ds.sel(time='2014-01')"
   ]
  },
  {
   "cell_type": "markdown",
   "metadata": {},
   "source": [
    "## xray also works for data that doesn't fit in memory"
   ]
  },
  {
   "cell_type": "markdown",
   "metadata": {},
   "source": [
    "Here's a quick demo of [how xray can leverage dask](http://xray.readthedocs.org/en/stable/dask.html) to work with data that doesn't fit in memory. This lets xray substitute for tools like `cdo` and `nco`.\n",
    "\n",
    "Open a bunch of netCDF files from disk using `xray.open_mfdataset`:"
   ]
  },
  {
   "cell_type": "code",
   "execution_count": 84,
   "metadata": {
    "collapsed": true
   },
   "outputs": [],
   "source": [
    "ds = xray.open_mfdataset('/Users/shoyer/data/era-interim/2t/*.nc', engine='scipy')"
   ]
  },
  {
   "cell_type": "code",
   "execution_count": 85,
   "metadata": {
    "collapsed": false,
    "scrolled": true
   },
   "outputs": [
    {
     "data": {
      "text/plain": [
       "<xray.Dataset>\n",
       "Dimensions:    (latitude: 256, longitude: 512, time: 52596)\n",
       "Coordinates:\n",
       "  * latitude   (latitude) float32 89.4628 88.767 88.067 87.3661 86.6648 ...\n",
       "  * longitude  (longitude) float32 0.0 0.703125 1.40625 2.10938 2.8125 ...\n",
       "  * time       (time) datetime64[ns] 1979-01-01 1979-01-01T06:00:00 ...\n",
       "Data variables:\n",
       "    t2m        (time, latitude, longitude) float64 240.6 240.6 240.6 240.6 ...\n",
       "Attributes:\n",
       "    Conventions: CF-1.0\n",
       "    history: 2015-01-24 09:20:12 GMT by grib_to_netcdf-1.12.3: grib_to_netcdf /data/data01/mars-web231-20150124092007-12207-11342.target -o /data/data01/mars-web231-20150124092011-12207-11343.nc"
      ]
     },
     "execution_count": 85,
     "metadata": {},
     "output_type": "execute_result"
    }
   ],
   "source": [
    "ds"
   ]
  },
  {
   "cell_type": "code",
   "execution_count": 86,
   "metadata": {
    "collapsed": false
   },
   "outputs": [
    {
     "data": {
      "text/plain": [
       "dask.array<concatenate-3, shape=(52596, 256, 512), chunks=((124, 112, 124, ..., 120, 124), (128, 128), (512,)), dtype=float64>"
      ]
     },
     "execution_count": 86,
     "metadata": {},
     "output_type": "execute_result"
    }
   ],
   "source": [
    "ds.t2m.data"
   ]
  },
  {
   "cell_type": "code",
   "execution_count": 151,
   "metadata": {
    "collapsed": false
   },
   "outputs": [
    {
     "data": {
      "text/plain": [
       "51.363675981760025"
      ]
     },
     "execution_count": 151,
     "metadata": {},
     "output_type": "execute_result"
    }
   ],
   "source": [
    "ds.nbytes * (2 ** -30)"
   ]
  },
  {
   "cell_type": "code",
   "execution_count": 153,
   "metadata": {
    "collapsed": false
   },
   "outputs": [
    {
     "name": "stdout",
     "output_type": "stream",
     "text": [
      "CPU times: user 2min 43s, sys: 1min 10s, total: 3min 53s\n",
      "Wall time: 1min\n"
     ]
    },
    {
     "data": {
      "text/plain": [
       "278.64617415292236"
      ]
     },
     "execution_count": 153,
     "metadata": {},
     "output_type": "execute_result"
    }
   ],
   "source": [
    "%time float(ds.t2m.mean())"
   ]
  },
  {
   "cell_type": "markdown",
   "metadata": {},
   "source": [
    "For more details, read this blog post: http://continuum.io/blog/xray-dask"
   ]
  }
 ],
 "metadata": {
  "celltoolbar": "Raw Cell Format",
  "kernelspec": {
   "display_name": "Python 2",
   "language": "python",
   "name": "python2"
  },
  "language_info": {
   "codemirror_mode": {
    "name": "ipython",
    "version": 2
   },
   "file_extension": ".py",
   "mimetype": "text/x-python",
   "name": "python",
   "nbconvert_exporter": "python",
   "pygments_lexer": "ipython2",
   "version": "2.7.10"
  }
 },
 "nbformat": 4,
 "nbformat_minor": 0
}
