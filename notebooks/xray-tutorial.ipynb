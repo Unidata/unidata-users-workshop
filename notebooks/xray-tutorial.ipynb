{
 "cells": [
  {
   "cell_type": "markdown",
   "metadata": {},
   "source": [
    "# xray tutorial\n",
    "\n",
    "[Stephan Hoyer](http://stephanhoyer.com), Unidata Users Workshop, 2015\n",
    "\n",
    "-------------\n",
    "\n",
    "This notebook introduces xray for new users.\n",
    "\n",
    "For more information about xray:\n",
    "\n",
    "- Reading the online documentation: http://xray.readthedocs.org/\n",
    "- Check us out on GitHub: http://github.com/xray/xray/"
   ]
  },
  {
   "cell_type": "code",
   "execution_count": 2,
   "metadata": {
    "collapsed": true
   },
   "outputs": [],
   "source": [
    "# standard imports\n",
    "import numpy as np\n",
    "import pandas as pd\n",
    "import matplotlib.pyplot as plt\n",
    "import xray\n",
    "\n",
    "%matplotlib inline\n",
    "\n",
    "np.set_printoptions(precision=3, linewidth=100, edgeitems=2)  # make numpy less verbose"
   ]
  },
  {
   "cell_type": "markdown",
   "metadata": {},
   "source": [
    "-------------------\n",
    "\n",
    "## xray basics"
   ]
  },
  {
   "cell_type": "markdown",
   "metadata": {},
   "source": [
    "#### Reading and writing netCDF"
   ]
  },
  {
   "cell_type": "markdown",
   "metadata": {},
   "source": [
    "To start off, download this [example netCDF file](https://github.com/xray/xray-data/blob/master/ncep_temperature_north-america_2013-14.nc?raw=true) subset from the [NCEP/NCAR Reanalysis 1](http://www.esrl.noaa.gov/psd/data/gridded/data.ncep.reanalysis.html)."
   ]
  },
  {
   "cell_type": "markdown",
   "metadata": {},
   "source": [
    "We'll open it up using `xray.open_dataset`. Under the covers, this uses the [netCDF4-Python](https://github.com/unidata/netcdf4-python) library:"
   ]
  },
  {
   "cell_type": "code",
   "execution_count": 110,
   "metadata": {
    "collapsed": false
   },
   "outputs": [],
   "source": [
    "ds = xray.open_dataset('/Users/shoyer/Downloads/ncep_temperature_north-america_2013-14.nc')"
   ]
  },
  {
   "cell_type": "code",
   "execution_count": 5,
   "metadata": {
    "collapsed": false
   },
   "outputs": [
    {
     "data": {
      "text/plain": [
       "<xray.DataArray 'air' (time: 2920, lat: 25, lon: 53)>\n",
       "[3869000 values with dtype=float64]\n",
       "Coordinates:\n",
       "  * lat      (lat) float32 75.0 72.5 70.0 67.5 65.0 62.5 60.0 57.5 55.0 52.5 ...\n",
       "  * lon      (lon) float32 200.0 202.5 205.0 207.5 210.0 212.5 215.0 217.5 ...\n",
       "  * time     (time) datetime64[ns] 2013-01-01 2013-01-01T06:00:00 ...\n",
       "Attributes:\n",
       "    long_name: 4xDaily Air temperature at sigma level 995\n",
       "    units: degK\n",
       "    precision: 2\n",
       "    GRIB_id: 11\n",
       "    GRIB_name: TMP\n",
       "    var_desc: Air temperature\n",
       "    dataset: NMC Reanalysis\n",
       "    level_desc: Surface\n",
       "    statistic: Individual Obs\n",
       "    parent_stat: Other\n",
       "    actual_range: [ 185.16  322.1 ]"
      ]
     },
     "execution_count": 5,
     "metadata": {},
     "output_type": "execute_result"
    }
   ],
   "source": [
    "ds.air"
   ]
  },
  {
   "cell_type": "markdown",
   "metadata": {},
   "source": [
    "#### `xray.Dataset` is like a Python dictionary (of `xray.DataArray` objects)"
   ]
  },
  {
   "cell_type": "code",
   "execution_count": 6,
   "metadata": {
    "collapsed": false
   },
   "outputs": [
    {
     "data": {
      "text/plain": [
       "True"
      ]
     },
     "execution_count": 6,
     "metadata": {},
     "output_type": "execute_result"
    }
   ],
   "source": [
    "'air' in ds"
   ]
  },
  {
   "cell_type": "code",
   "execution_count": 7,
   "metadata": {
    "collapsed": false
   },
   "outputs": [
    {
     "data": {
      "text/plain": [
       "[u'lat', u'time', u'lon', u'air']"
      ]
     },
     "execution_count": 7,
     "metadata": {},
     "output_type": "execute_result"
    }
   ],
   "source": [
    "ds.keys()"
   ]
  },
  {
   "cell_type": "code",
   "execution_count": 8,
   "metadata": {
    "collapsed": false
   },
   "outputs": [
    {
     "data": {
      "text/plain": [
       "True"
      ]
     },
     "execution_count": 8,
     "metadata": {},
     "output_type": "execute_result"
    }
   ],
   "source": [
    "ds['air'].identical(ds.air)"
   ]
  },
  {
   "cell_type": "code",
   "execution_count": 9,
   "metadata": {
    "collapsed": false
   },
   "outputs": [
    {
     "data": {
      "text/plain": [
       "Frozen(SortedKeysDict({u'lat': 25, u'lon': 53, u'time': 2920}))"
      ]
     },
     "execution_count": 9,
     "metadata": {},
     "output_type": "execute_result"
    }
   ],
   "source": [
    "ds.dims"
   ]
  },
  {
   "cell_type": "code",
   "execution_count": 10,
   "metadata": {
    "collapsed": false
   },
   "outputs": [
    {
     "data": {
      "text/plain": [
       "OrderedDict([(u'Conventions', u'COARDS'), (u'title', u'4x daily NMC reanalysis (1948)'), (u'description', u'Data is from NMC initialized reanalysis\\n(4x/day).  These are the 0.9950 sigma level values.'), (u'platform', u'Model'), (u'references', u'http://www.esrl.noaa.gov/psd/data/gridded/data.ncep.reanalysis.html')])"
      ]
     },
     "execution_count": 10,
     "metadata": {},
     "output_type": "execute_result"
    }
   ],
   "source": [
    "ds.attrs"
   ]
  },
  {
   "cell_type": "code",
   "execution_count": 11,
   "metadata": {
    "collapsed": true
   },
   "outputs": [],
   "source": [
    "ds.attrs['foo'] = 'bar'"
   ]
  },
  {
   "cell_type": "code",
   "execution_count": 12,
   "metadata": {
    "collapsed": false
   },
   "outputs": [
    {
     "data": {
      "text/plain": [
       "<xray.Dataset>\n",
       "Dimensions:  (lat: 25, lon: 53, time: 2920)\n",
       "Coordinates:\n",
       "  * lat      (lat) float32 75.0 72.5 70.0 67.5 65.0 62.5 60.0 57.5 55.0 52.5 ...\n",
       "  * time     (time) datetime64[ns] 2013-01-01 2013-01-01T06:00:00 ...\n",
       "  * lon      (lon) float32 200.0 202.5 205.0 207.5 210.0 212.5 215.0 217.5 ...\n",
       "Data variables:\n",
       "    air      (time, lat, lon) float64 241.2 242.5 243.5 244.0 244.1 243.9 ...\n",
       "Attributes:\n",
       "    Conventions: COARDS\n",
       "    title: 4x daily NMC reanalysis (1948)\n",
       "    description: Data is from NMC initialized reanalysis\n",
       "(4x/day).  These are the 0.9950 sigma level values.\n",
       "    platform: Model\n",
       "    references: http://www.esrl.noaa.gov/psd/data/gridded/data.ncep.reanalysis.html\n",
       "    foo: bar"
      ]
     },
     "execution_count": 12,
     "metadata": {},
     "output_type": "execute_result"
    }
   ],
   "source": [
    "ds"
   ]
  },
  {
   "cell_type": "code",
   "execution_count": 13,
   "metadata": {
    "collapsed": false
   },
   "outputs": [
    {
     "data": {
      "text/plain": [
       "array([[[ 241.2,  242.5, ...,  235.5,  238.6],\n",
       "        [ 243.8,  244.5, ...,  235.3,  239.3],\n",
       "        ..., \n",
       "        [ 295.9,  296.2, ...,  295.9,  295.2],\n",
       "        [ 296.3,  296.8, ...,  296.8,  296.6]],\n",
       "\n",
       "       [[ 242.1,  242.7, ...,  233.6,  235.8],\n",
       "        [ 243.6,  244.1, ...,  232.5,  235.7],\n",
       "        ..., \n",
       "        [ 296.2,  296.7, ...,  295.5,  295.1],\n",
       "        [ 296.3,  297.2, ...,  296.4,  296.6]],\n",
       "\n",
       "       ..., \n",
       "       [[ 245.8,  244.8, ...,  244. ,  244.8],\n",
       "        [ 249.9,  249.3, ...,  242.5,  244.3],\n",
       "        ..., \n",
       "        [ 296.3,  297.2, ...,  295.1,  294.4],\n",
       "        [ 297.8,  298.4, ...,  295.5,  295.2]],\n",
       "\n",
       "       [[ 245.1,  244.3, ...,  241.5,  241.8],\n",
       "        [ 249.9,  249.3, ...,  240.3,  241.7],\n",
       "        ..., \n",
       "        [ 296.1,  296.9, ...,  295.7,  295.2],\n",
       "        [ 297.7,  298.1, ...,  296.2,  295.7]]])"
      ]
     },
     "execution_count": 13,
     "metadata": {},
     "output_type": "execute_result"
    }
   ],
   "source": [
    "ds.air.values"
   ]
  },
  {
   "cell_type": "code",
   "execution_count": 14,
   "metadata": {
    "collapsed": false
   },
   "outputs": [
    {
     "data": {
      "text/plain": [
       "(u'time', u'lat', u'lon')"
      ]
     },
     "execution_count": 14,
     "metadata": {},
     "output_type": "execute_result"
    }
   ],
   "source": [
    "ds.air.dims"
   ]
  },
  {
   "cell_type": "code",
   "execution_count": 15,
   "metadata": {
    "collapsed": false
   },
   "outputs": [
    {
     "data": {
      "text/plain": [
       "OrderedDict([(u'long_name', u'4xDaily Air temperature at sigma level 995'), (u'units', u'degK'), (u'precision', 2), (u'GRIB_id', 11), (u'GRIB_name', u'TMP'), (u'var_desc', u'Air temperature'), (u'dataset', u'NMC Reanalysis'), (u'level_desc', u'Surface'), (u'statistic', u'Individual Obs'), (u'parent_stat', u'Other'), (u'actual_range', array([ 185.16,  322.1 ], dtype=float32))])"
      ]
     },
     "execution_count": 15,
     "metadata": {},
     "output_type": "execute_result"
    }
   ],
   "source": [
    "ds.air.attrs"
   ]
  },
  {
   "cell_type": "markdown",
   "metadata": {},
   "source": [
    "#### Saving back to netCDF"
   ]
  },
  {
   "cell_type": "code",
   "execution_count": 16,
   "metadata": {
    "collapsed": true
   },
   "outputs": [],
   "source": [
    "ds.to_netcdf('another-copy.nc', format='netcdf3_classic')"
   ]
  },
  {
   "cell_type": "code",
   "execution_count": 17,
   "metadata": {
    "collapsed": false
   },
   "outputs": [
    {
     "name": "stdout",
     "output_type": "stream",
     "text": [
      "netcdf another-copy {\r\n",
      "dimensions:\r\n",
      "\tlat = 25 ;\r\n",
      "\ttime = 2920 ;\r\n",
      "\tlon = 53 ;\r\n",
      "variables:\r\n",
      "\tfloat lat(lat) ;\r\n",
      "\t\tlat:standard_name = \"latitude\" ;\r\n",
      "\t\tlat:long_name = \"Latitude\" ;\r\n",
      "\t\tlat:units = \"degrees_north\" ;\r\n",
      "\t\tlat:axis = \"Y\" ;\r\n",
      "\tfloat air(time, lat, lon) ;\r\n",
      "\t\tair:long_name = \"4xDaily Air temperature at sigma level 995\" ;\r\n",
      "\t\tair:units = \"degK\" ;\r\n",
      "\t\tair:precision = 2s ;\r\n",
      "\t\tair:GRIB_id = 11s ;\r\n",
      "\t\tair:GRIB_name = \"TMP\" ;\r\n",
      "\t\tair:var_desc = \"Air temperature\" ;\r\n",
      "\t\tair:dataset = \"NMC Reanalysis\" ;\r\n",
      "\t\tair:level_desc = \"Surface\" ;\r\n",
      "\t\tair:statistic = \"Individual Obs\" ;\r\n",
      "\t\tair:parent_stat = \"Other\" ;\r\n",
      "\t\tair:actual_range = 185.16f, 322.1f ;\r\n",
      "\tfloat lon(lon) ;\r\n",
      "\t\tlon:standard_name = \"longitude\" ;\r\n",
      "\t\tlon:long_name = \"Longitude\" ;\r\n",
      "\t\tlon:units = \"degrees_east\" ;\r\n",
      "\t\tlon:axis = \"X\" ;\r\n",
      "\tfloat time(time) ;\r\n",
      "\t\ttime:standard_name = \"time\" ;\r\n",
      "\t\ttime:long_name = \"Time\" ;\r\n",
      "\t\ttime:units = \"hours since 1800-01-01\" ;\r\n",
      "\t\ttime:calendar = \"standard\" ;\r\n",
      "\r\n",
      "// global attributes:\r\n",
      "\t\t:Conventions = \"COARDS\" ;\r\n",
      "\t\t:title = \"4x daily NMC reanalysis (1948)\" ;\r\n",
      "\t\t:description = \"Data is from NMC initialized reanalysis\\n\",\r\n",
      "\t\t\t\"(4x/day).  These are the 0.9950 sigma level values.\" ;\r\n",
      "\t\t:platform = \"Model\" ;\r\n",
      "\t\t:references = \"http://www.esrl.noaa.gov/psd/data/gridded/data.ncep.reanalysis.html\" ;\r\n",
      "\t\t:foo = \"bar\" ;\r\n",
      "}\r\n"
     ]
    }
   ],
   "source": [
    "! ncdump -h another-copy.nc"
   ]
  },
  {
   "cell_type": "markdown",
   "metadata": {},
   "source": [
    "### Indexing"
   ]
  },
  {
   "cell_type": "markdown",
   "metadata": {},
   "source": [
    "#### By integer position"
   ]
  },
  {
   "cell_type": "code",
   "execution_count": 22,
   "metadata": {
    "collapsed": false
   },
   "outputs": [
    {
     "data": {
      "text/plain": [
       "<xray.DataArray 'air' (lat: 25, lon: 53)>\n",
       "array([[ 241.2,  242.5, ...,  235.5,  238.6],\n",
       "       [ 243.8,  244.5, ...,  235.3,  239.3],\n",
       "       ..., \n",
       "       [ 295.9,  296.2, ...,  295.9,  295.2],\n",
       "       [ 296.3,  296.8, ...,  296.8,  296.6]])\n",
       "Coordinates:\n",
       "  * lat      (lat) float32 75.0 72.5 70.0 67.5 65.0 62.5 60.0 57.5 55.0 52.5 ...\n",
       "  * lon      (lon) float32 200.0 202.5 205.0 207.5 210.0 212.5 215.0 217.5 ...\n",
       "    time     datetime64[ns] 2013-01-01\n",
       "Attributes:\n",
       "    long_name: 4xDaily Air temperature at sigma level 995\n",
       "    units: degK\n",
       "    precision: 2\n",
       "    GRIB_id: 11\n",
       "    GRIB_name: TMP\n",
       "    var_desc: Air temperature\n",
       "    dataset: NMC Reanalysis\n",
       "    level_desc: Surface\n",
       "    statistic: Individual Obs\n",
       "    parent_stat: Other\n",
       "    actual_range: [ 185.16  322.1 ]"
      ]
     },
     "execution_count": 22,
     "metadata": {},
     "output_type": "execute_result"
    }
   ],
   "source": [
    "ds.air[0]"
   ]
  },
  {
   "cell_type": "markdown",
   "metadata": {},
   "source": [
    "#### By label along an axis (like pandas)"
   ]
  },
  {
   "cell_type": "code",
   "execution_count": 19,
   "metadata": {
    "collapsed": false
   },
   "outputs": [
    {
     "data": {
      "text/plain": [
       "<xray.DataArray 'air' (lat: 25, lon: 53)>\n",
       "array([[ 241.2,  242.5, ...,  235.5,  238.6],\n",
       "       [ 243.8,  244.5, ...,  235.3,  239.3],\n",
       "       ..., \n",
       "       [ 295.9,  296.2, ...,  295.9,  295.2],\n",
       "       [ 296.3,  296.8, ...,  296.8,  296.6]])\n",
       "Coordinates:\n",
       "  * lat      (lat) float32 75.0 72.5 70.0 67.5 65.0 62.5 60.0 57.5 55.0 52.5 ...\n",
       "  * lon      (lon) float32 200.0 202.5 205.0 207.5 210.0 212.5 215.0 217.5 ...\n",
       "    time     datetime64[ns] 2013-01-01\n",
       "Attributes:\n",
       "    long_name: 4xDaily Air temperature at sigma level 995\n",
       "    units: degK\n",
       "    precision: 2\n",
       "    GRIB_id: 11\n",
       "    GRIB_name: TMP\n",
       "    var_desc: Air temperature\n",
       "    dataset: NMC Reanalysis\n",
       "    level_desc: Surface\n",
       "    statistic: Individual Obs\n",
       "    parent_stat: Other\n",
       "    actual_range: [ 185.16  322.1 ]"
      ]
     },
     "execution_count": 19,
     "metadata": {},
     "output_type": "execute_result"
    }
   ],
   "source": [
    "ds.air.loc['2013-01-01T00']"
   ]
  },
  {
   "cell_type": "markdown",
   "metadata": {},
   "source": [
    "#### With named dimensions"
   ]
  },
  {
   "cell_type": "code",
   "execution_count": 23,
   "metadata": {
    "collapsed": false
   },
   "outputs": [
    {
     "data": {
      "text/plain": [
       "<xray.DataArray 'air' (time: 4, lat: 25, lon: 53)>\n",
       "array([[[ 241.2,  242.5, ...,  235.5,  238.6],\n",
       "        [ 243.8,  244.5, ...,  235.3,  239.3],\n",
       "        ..., \n",
       "        [ 295.9,  296.2, ...,  295.9,  295.2],\n",
       "        [ 296.3,  296.8, ...,  296.8,  296.6]],\n",
       "\n",
       "       [[ 242.1,  242.7, ...,  233.6,  235.8],\n",
       "        [ 243.6,  244.1, ...,  232.5,  235.7],\n",
       "        ..., \n",
       "        [ 296.2,  296.7, ...,  295.5,  295.1],\n",
       "        [ 296.3,  297.2, ...,  296.4,  296.6]],\n",
       "\n",
       "       [[ 242.3,  242.2, ...,  236.1,  238.7],\n",
       "        [ 244.6,  244.4, ...,  232. ,  235.7],\n",
       "        ..., \n",
       "        [ 296.2,  296.5, ...,  296. ,  295.6],\n",
       "        [ 296.4,  296.3, ...,  297. ,  296.8]],\n",
       "\n",
       "       [[ 241.9,  241.8, ...,  235.5,  237.6],\n",
       "        [ 246.3,  245.3, ...,  231.5,  234.5],\n",
       "        ..., \n",
       "        [ 297. ,  297.5, ...,  296.6,  296.3],\n",
       "        [ 297.5,  297.7, ...,  298. ,  297.9]]])\n",
       "Coordinates:\n",
       "  * lat      (lat) float32 75.0 72.5 70.0 67.5 65.0 62.5 60.0 57.5 55.0 52.5 ...\n",
       "  * lon      (lon) float32 200.0 202.5 205.0 207.5 210.0 212.5 215.0 217.5 ...\n",
       "  * time     (time) datetime64[ns] 2013-01-01 2013-01-01T06:00:00 ...\n",
       "Attributes:\n",
       "    long_name: 4xDaily Air temperature at sigma level 995\n",
       "    units: degK\n",
       "    precision: 2\n",
       "    GRIB_id: 11\n",
       "    GRIB_name: TMP\n",
       "    var_desc: Air temperature\n",
       "    dataset: NMC Reanalysis\n",
       "    level_desc: Surface\n",
       "    statistic: Individual Obs\n",
       "    parent_stat: Other\n",
       "    actual_range: [ 185.16  322.1 ]"
      ]
     },
     "execution_count": 23,
     "metadata": {},
     "output_type": "execute_result"
    }
   ],
   "source": [
    "ds.air.sel(time='2013-01-01')"
   ]
  },
  {
   "cell_type": "code",
   "execution_count": 24,
   "metadata": {
    "collapsed": false
   },
   "outputs": [
    {
     "data": {
      "text/plain": [
       "<xray.DataArray 'air' (time: 2920, lat: 5, lon: 3)>\n",
       "array([[[ 247.7,  246.8,  253.4],\n",
       "        [ 251.9,  249.5,  253.1],\n",
       "        ..., \n",
       "        [ 253.3,  249.4,  256.6],\n",
       "        [ 254.6,  252.3,  260. ]],\n",
       "\n",
       "       [[ 246. ,  246.8,  251. ],\n",
       "        [ 248.8,  248.9,  251.2],\n",
       "        ..., \n",
       "        [ 254.6,  251.8,  252.9],\n",
       "        [ 252.9,  252.1,  252.3]],\n",
       "\n",
       "       ..., \n",
       "       [[ 260. ,  256.2,  251.7],\n",
       "        [ 260. ,  257.2,  251.8],\n",
       "        ..., \n",
       "        [ 261.2,  254.2,  250.8],\n",
       "        [ 260.4,  254.6,  250.5]],\n",
       "\n",
       "       [[ 255.5,  255.2,  253.1],\n",
       "        [ 260.2,  259.5,  252.7],\n",
       "        ..., \n",
       "        [ 262.4,  257.4,  256.4],\n",
       "        [ 261.5,  258.7,  258.9]]])\n",
       "Coordinates:\n",
       "  * lat      (lat) float32 60.0 57.5 55.0 52.5 50.0\n",
       "  * lon      (lon) float32 260.0 270.0 280.0\n",
       "  * time     (time) datetime64[ns] 2013-01-01 2013-01-01T06:00:00 ...\n",
       "Attributes:\n",
       "    long_name: 4xDaily Air temperature at sigma level 995\n",
       "    units: degK\n",
       "    precision: 2\n",
       "    GRIB_id: 11\n",
       "    GRIB_name: TMP\n",
       "    var_desc: Air temperature\n",
       "    dataset: NMC Reanalysis\n",
       "    level_desc: Surface\n",
       "    statistic: Individual Obs\n",
       "    parent_stat: Other\n",
       "    actual_range: [ 185.16  322.1 ]"
      ]
     },
     "execution_count": 24,
     "metadata": {},
     "output_type": "execute_result"
    }
   ],
   "source": [
    "ds.air.sel(lat=slice(60, 50), lon=[260, 270, 280])"
   ]
  },
  {
   "cell_type": "markdown",
   "metadata": {},
   "source": [
    "## Computation\n",
    "\n",
    "You can do arithmetic directly on `Dataset` and `DataArray` objects. Labels are preserved, although attributes removed."
   ]
  },
  {
   "cell_type": "code",
   "execution_count": 25,
   "metadata": {
    "collapsed": false
   },
   "outputs": [
    {
     "data": {
      "text/plain": [
       "<xray.Dataset>\n",
       "Dimensions:  (lat: 25, lon: 53, time: 2920)\n",
       "Coordinates:\n",
       "  * lat      (lat) float32 75.0 72.5 70.0 67.5 65.0 62.5 60.0 57.5 55.0 52.5 ...\n",
       "  * lon      (lon) float32 200.0 202.5 205.0 207.5 210.0 212.5 215.0 217.5 ...\n",
       "  * time     (time) datetime64[ns] 2013-01-01 2013-01-01T06:00:00 ...\n",
       "Data variables:\n",
       "    air      (time, lat, lon) float64 482.4 485.0 487.0 488.0 488.2 487.8 ...\n",
       "Attributes:\n",
       "    Conventions: COARDS\n",
       "    title: 4x daily NMC reanalysis (1948)\n",
       "    description: Data is from NMC initialized reanalysis\n",
       "(4x/day).  These are the 0.9950 sigma level values.\n",
       "    platform: Model\n",
       "    references: http://www.esrl.noaa.gov/psd/data/gridded/data.ncep.reanalysis.html\n",
       "    foo: bar"
      ]
     },
     "execution_count": 25,
     "metadata": {},
     "output_type": "execute_result"
    }
   ],
   "source": [
    "2 * ds"
   ]
  },
  {
   "cell_type": "markdown",
   "metadata": {},
   "source": [
    "You can also apply NumPy \"universal functions\" like `np.sqrt` to `DataArray` objects:"
   ]
  },
  {
   "cell_type": "code",
   "execution_count": 26,
   "metadata": {
    "collapsed": false
   },
   "outputs": [
    {
     "data": {
      "text/plain": [
       "<xray.DataArray 'air' (time: 2920, lat: 25, lon: 53)>\n",
       "array([[[ 15.531,  15.572, ...,  15.346,  15.447],\n",
       "        [ 15.614,  15.636, ...,  15.339,  15.469],\n",
       "        ..., \n",
       "        [ 17.202,  17.21 , ...,  17.202,  17.181],\n",
       "        [ 17.213,  17.228, ...,  17.228,  17.222]],\n",
       "\n",
       "       [[ 15.56 ,  15.579, ...,  15.284,  15.356],\n",
       "        [ 15.608,  15.624, ...,  15.248,  15.353],\n",
       "        ..., \n",
       "        [ 17.21 ,  17.225, ...,  17.19 ,  17.178],\n",
       "        [ 17.213,  17.239, ...,  17.216,  17.222]],\n",
       "\n",
       "       ..., \n",
       "       [[ 15.678,  15.646, ...,  15.62 ,  15.646],\n",
       "        [ 15.808,  15.789, ...,  15.572,  15.63 ],\n",
       "        ..., \n",
       "        [ 17.213,  17.239, ...,  17.178,  17.158],\n",
       "        [ 17.257,  17.274, ...,  17.19 ,  17.181]],\n",
       "\n",
       "       [[ 15.656,  15.63 , ...,  15.54 ,  15.55 ],\n",
       "        [ 15.808,  15.789, ...,  15.502,  15.547],\n",
       "        ..., \n",
       "        [ 17.208,  17.231, ...,  17.196,  17.181],\n",
       "        [ 17.254,  17.266, ...,  17.21 ,  17.196]]])\n",
       "Coordinates:\n",
       "  * lat      (lat) float32 75.0 72.5 70.0 67.5 65.0 62.5 60.0 57.5 55.0 52.5 ...\n",
       "  * lon      (lon) float32 200.0 202.5 205.0 207.5 210.0 212.5 215.0 217.5 ...\n",
       "  * time     (time) datetime64[ns] 2013-01-01 2013-01-01T06:00:00 ..."
      ]
     },
     "execution_count": 26,
     "metadata": {},
     "output_type": "execute_result"
    }
   ],
   "source": [
    "np.sqrt(ds.air)"
   ]
  },
  {
   "cell_type": "markdown",
   "metadata": {},
   "source": [
    "xray also implements standard aggregation functions:"
   ]
  },
  {
   "cell_type": "code",
   "execution_count": 27,
   "metadata": {
    "collapsed": false
   },
   "outputs": [
    {
     "data": {
      "text/plain": [
       "<xray.Dataset>\n",
       "Dimensions:  ()\n",
       "Coordinates:\n",
       "    *empty*\n",
       "Data variables:\n",
       "    air      float64 317.4"
      ]
     },
     "execution_count": 27,
     "metadata": {},
     "output_type": "execute_result"
    }
   ],
   "source": [
    "ds.max()"
   ]
  },
  {
   "cell_type": "code",
   "execution_count": 28,
   "metadata": {
    "collapsed": false
   },
   "outputs": [
    {
     "data": {
      "text/plain": [
       "<xray.Dataset>\n",
       "Dimensions:  (lat: 25, lon: 53)\n",
       "Coordinates:\n",
       "  * lat      (lat) float32 75.0 72.5 70.0 67.5 65.0 62.5 60.0 57.5 55.0 52.5 ...\n",
       "  * lon      (lon) float32 200.0 202.5 205.0 207.5 210.0 212.5 215.0 217.5 ...\n",
       "Data variables:\n",
       "    air      (lat, lon) float64 260.4 260.2 259.9 259.5 259.0 258.6 258.2 ..."
      ]
     },
     "execution_count": 28,
     "metadata": {},
     "output_type": "execute_result"
    }
   ],
   "source": [
    "ds.mean(dim='time')"
   ]
  },
  {
   "cell_type": "code",
   "execution_count": 29,
   "metadata": {
    "collapsed": false
   },
   "outputs": [
    {
     "data": {
      "text/plain": [
       "<xray.Dataset>\n",
       "Dimensions:  (time: 2920)\n",
       "Coordinates:\n",
       "  * time     (time) datetime64[ns] 2013-01-01 2013-01-01T06:00:00 ...\n",
       "Data variables:\n",
       "    air      (time) float64 277.5 276.7 276.2 276.8 277.0 275.3 275.6 275.4 ..."
      ]
     },
     "execution_count": 29,
     "metadata": {},
     "output_type": "execute_result"
    }
   ],
   "source": [
    "ds.median(dim=['lat', 'lon'])"
   ]
  },
  {
   "cell_type": "markdown",
   "metadata": {},
   "source": [
    "## Exercise\n",
    "\n",
    "(a) Calculate the maximum air surface temperature over time in the vicinity of Boulder, CO (latitude=40, longitude=255)"
   ]
  },
  {
   "cell_type": "code",
   "execution_count": null,
   "metadata": {
    "collapsed": true
   },
   "outputs": [],
   "source": []
  },
  {
   "cell_type": "markdown",
   "metadata": {},
   "source": [
    "(b) Convert the dataset from Kelvin to degrees Celsius and save to a new file. Don't forget to fix the temperature units! Recall `degC = degK - 273`."
   ]
  },
  {
   "cell_type": "code",
   "execution_count": null,
   "metadata": {
    "collapsed": true
   },
   "outputs": [],
   "source": []
  },
  {
   "cell_type": "markdown",
   "metadata": {},
   "source": [
    "----------------------"
   ]
  },
  {
   "cell_type": "markdown",
   "metadata": {},
   "source": [
    "## Converting to pandas\n",
    "\n",
    "[Pandas](http://pandas.pydata.org) is the best way to work with tabular data in Python. It's also a highly flexible data analysis tool, with way more functionality than xray.\n",
    "\n",
    "The `pandas.DataFrame` is the work-horse pandas object, on which the `xray.Dataset` was based. The `pandas.Series` corresponds to the `xray.DataArray`"
   ]
  },
  {
   "cell_type": "code",
   "execution_count": 37,
   "metadata": {
    "collapsed": false,
    "scrolled": false
   },
   "outputs": [
    {
     "data": {
      "text/html": [
       "<div>\n",
       "<table border=\"1\" class=\"dataframe\">\n",
       "  <thead>\n",
       "    <tr style=\"text-align: right;\">\n",
       "      <th></th>\n",
       "      <th></th>\n",
       "      <th></th>\n",
       "      <th>air</th>\n",
       "    </tr>\n",
       "    <tr>\n",
       "      <th>lat</th>\n",
       "      <th>lon</th>\n",
       "      <th>time</th>\n",
       "      <th></th>\n",
       "    </tr>\n",
       "  </thead>\n",
       "  <tbody>\n",
       "    <tr>\n",
       "      <th rowspan=\"5\" valign=\"top\">75</th>\n",
       "      <th rowspan=\"5\" valign=\"top\">200</th>\n",
       "      <th>2013-01-01 00:00:00</th>\n",
       "      <td>241.200012</td>\n",
       "    </tr>\n",
       "    <tr>\n",
       "      <th>2013-01-01 06:00:00</th>\n",
       "      <td>242.100006</td>\n",
       "    </tr>\n",
       "    <tr>\n",
       "      <th>2013-01-01 12:00:00</th>\n",
       "      <td>242.300018</td>\n",
       "    </tr>\n",
       "    <tr>\n",
       "      <th>2013-01-01 18:00:00</th>\n",
       "      <td>241.899994</td>\n",
       "    </tr>\n",
       "    <tr>\n",
       "      <th>2013-01-02 00:00:00</th>\n",
       "      <td>243.200012</td>\n",
       "    </tr>\n",
       "  </tbody>\n",
       "</table>\n",
       "</div>"
      ],
      "text/plain": [
       "                                    air\n",
       "lat lon time                           \n",
       "75  200 2013-01-01 00:00:00  241.200012\n",
       "        2013-01-01 06:00:00  242.100006\n",
       "        2013-01-01 12:00:00  242.300018\n",
       "        2013-01-01 18:00:00  241.899994\n",
       "        2013-01-02 00:00:00  243.200012"
      ]
     },
     "execution_count": 37,
     "metadata": {},
     "output_type": "execute_result"
    }
   ],
   "source": [
    "ds.to_dataframe().head()"
   ]
  },
  {
   "cell_type": "markdown",
   "metadata": {},
   "source": [
    "Pandas provides very robust tools for reading and writing CSV:"
   ]
  },
  {
   "cell_type": "code",
   "execution_count": 38,
   "metadata": {
    "collapsed": false
   },
   "outputs": [
    {
     "name": "stdout",
     "output_type": "stream",
     "text": [
      "lat,lon,time,air\n",
      "75.0,200.0,2013-01-01 00:00:00,241.200012207\n",
      "75.0,200.0,2013-01-01 06:00:00,242.100006104\n",
      "75.0,200.0,2013-01-01 12:00:00,242.300018311\n",
      "75.0,200.0,2013-01-01 18:00:00,241.899993896\n",
      "75.0,200.0,2013-01-02 00:00:00,243.200012207\n",
      "75.0,200.0,2013-01-02 06:00:00,244.100006104\n",
      "75.0,200.0,2013-01-02 12:00:00,243.300018311\n",
      "75.0,200.0,2013-01-02 18:00:00,243.800018311\n",
      "75.0,200.0,2013-01-03 00:00:00,244.800018311\n",
      "75.0,200.0,2013-01-03 06:00:00,243.899993896\n",
      "\n"
     ]
    }
   ],
   "source": [
    "print ds.to_dataframe().head(10).to_csv()"
   ]
  },
  {
   "cell_type": "markdown",
   "metadata": {},
   "source": [
    "Of course, it's just as easy to convert back from pandas:"
   ]
  },
  {
   "cell_type": "code",
   "execution_count": 39,
   "metadata": {
    "collapsed": false
   },
   "outputs": [],
   "source": [
    "df = pd.DataFrame({'x': [1, 2, 3], 'y': ['a', 'b', 'c']}).set_index('x')"
   ]
  },
  {
   "cell_type": "code",
   "execution_count": 40,
   "metadata": {
    "collapsed": false
   },
   "outputs": [
    {
     "data": {
      "text/html": [
       "<div>\n",
       "<table border=\"1\" class=\"dataframe\">\n",
       "  <thead>\n",
       "    <tr style=\"text-align: right;\">\n",
       "      <th></th>\n",
       "      <th>y</th>\n",
       "    </tr>\n",
       "    <tr>\n",
       "      <th>x</th>\n",
       "      <th></th>\n",
       "    </tr>\n",
       "  </thead>\n",
       "  <tbody>\n",
       "    <tr>\n",
       "      <th>1</th>\n",
       "      <td>a</td>\n",
       "    </tr>\n",
       "    <tr>\n",
       "      <th>2</th>\n",
       "      <td>b</td>\n",
       "    </tr>\n",
       "    <tr>\n",
       "      <th>3</th>\n",
       "      <td>c</td>\n",
       "    </tr>\n",
       "  </tbody>\n",
       "</table>\n",
       "</div>"
      ],
      "text/plain": [
       "   y\n",
       "x   \n",
       "1  a\n",
       "2  b\n",
       "3  c"
      ]
     },
     "execution_count": 40,
     "metadata": {},
     "output_type": "execute_result"
    }
   ],
   "source": [
    "df"
   ]
  },
  {
   "cell_type": "code",
   "execution_count": 41,
   "metadata": {
    "collapsed": false
   },
   "outputs": [
    {
     "data": {
      "text/plain": [
       "<xray.Dataset>\n",
       "Dimensions:  (x: 3)\n",
       "Coordinates:\n",
       "  * x        (x) int64 1 2 3\n",
       "Data variables:\n",
       "    y        (x) object 'a' 'b' 'c'"
      ]
     },
     "execution_count": 41,
     "metadata": {},
     "output_type": "execute_result"
    }
   ],
   "source": [
    "xray.Dataset.from_dataframe(df)"
   ]
  },
  {
   "cell_type": "markdown",
   "metadata": {},
   "source": [
    "### Things you can do with pandas"
   ]
  },
  {
   "cell_type": "markdown",
   "metadata": {},
   "source": [
    "Lots of method we haven't implemented in xray yet:"
   ]
  },
  {
   "cell_type": "code",
   "execution_count": 42,
   "metadata": {
    "collapsed": false
   },
   "outputs": [
    {
     "data": {
      "text/html": [
       "<div>\n",
       "<table border=\"1\" class=\"dataframe\">\n",
       "  <thead>\n",
       "    <tr style=\"text-align: right;\">\n",
       "      <th></th>\n",
       "      <th>air</th>\n",
       "    </tr>\n",
       "  </thead>\n",
       "  <tbody>\n",
       "    <tr>\n",
       "      <th>count</th>\n",
       "      <td>3869000.000000</td>\n",
       "    </tr>\n",
       "    <tr>\n",
       "      <th>mean</th>\n",
       "      <td>281.257526</td>\n",
       "    </tr>\n",
       "    <tr>\n",
       "      <th>std</th>\n",
       "      <td>16.320308</td>\n",
       "    </tr>\n",
       "    <tr>\n",
       "      <th>min</th>\n",
       "      <td>221.000000</td>\n",
       "    </tr>\n",
       "    <tr>\n",
       "      <th>25%</th>\n",
       "      <td>272.200012</td>\n",
       "    </tr>\n",
       "    <tr>\n",
       "      <th>50%</th>\n",
       "      <td>285.200012</td>\n",
       "    </tr>\n",
       "    <tr>\n",
       "      <th>75%</th>\n",
       "      <td>294.600006</td>\n",
       "    </tr>\n",
       "    <tr>\n",
       "      <th>max</th>\n",
       "      <td>317.400024</td>\n",
       "    </tr>\n",
       "  </tbody>\n",
       "</table>\n",
       "</div>"
      ],
      "text/plain": [
       "                  air\n",
       "count  3869000.000000\n",
       "mean       281.257526\n",
       "std         16.320308\n",
       "min        221.000000\n",
       "25%        272.200012\n",
       "50%        285.200012\n",
       "75%        294.600006\n",
       "max        317.400024"
      ]
     },
     "execution_count": 42,
     "metadata": {},
     "output_type": "execute_result"
    }
   ],
   "source": [
    "ds.to_dataframe().describe()"
   ]
  },
  {
   "cell_type": "code",
   "execution_count": 43,
   "metadata": {
    "collapsed": false
   },
   "outputs": [
    {
     "data": {
      "text/html": [
       "<div>\n",
       "<table border=\"1\" class=\"dataframe\">\n",
       "  <thead>\n",
       "    <tr style=\"text-align: right;\">\n",
       "      <th></th>\n",
       "      <th></th>\n",
       "      <th></th>\n",
       "      <th>air</th>\n",
       "    </tr>\n",
       "    <tr>\n",
       "      <th>lat</th>\n",
       "      <th>lon</th>\n",
       "      <th>time</th>\n",
       "      <th></th>\n",
       "    </tr>\n",
       "  </thead>\n",
       "  <tbody>\n",
       "    <tr>\n",
       "      <th>35.0</th>\n",
       "      <th>245.0</th>\n",
       "      <th>2013-08-15 12:00:00</th>\n",
       "      <td>298.100006</td>\n",
       "    </tr>\n",
       "    <tr>\n",
       "      <th>57.5</th>\n",
       "      <th>252.5</th>\n",
       "      <th>2014-04-01 18:00:00</th>\n",
       "      <td>260.200012</td>\n",
       "    </tr>\n",
       "    <tr>\n",
       "      <th>75.0</th>\n",
       "      <th>245.0</th>\n",
       "      <th>2013-07-19 00:00:00</th>\n",
       "      <td>281.299988</td>\n",
       "    </tr>\n",
       "    <tr>\n",
       "      <th>25.0</th>\n",
       "      <th>292.5</th>\n",
       "      <th>2013-08-01 06:00:00</th>\n",
       "      <td>300.299988</td>\n",
       "    </tr>\n",
       "    <tr>\n",
       "      <th>52.5</th>\n",
       "      <th>262.5</th>\n",
       "      <th>2013-05-16 00:00:00</th>\n",
       "      <td>287.900024</td>\n",
       "    </tr>\n",
       "    <tr>\n",
       "      <th>65.0</th>\n",
       "      <th>272.5</th>\n",
       "      <th>2014-11-22 06:00:00</th>\n",
       "      <td>232.299973</td>\n",
       "    </tr>\n",
       "    <tr>\n",
       "      <th>60.0</th>\n",
       "      <th>220.0</th>\n",
       "      <th>2013-03-08 12:00:00</th>\n",
       "      <td>271.299988</td>\n",
       "    </tr>\n",
       "    <tr>\n",
       "      <th>40.0</th>\n",
       "      <th>282.5</th>\n",
       "      <th>2014-01-10 00:00:00</th>\n",
       "      <td>270.100006</td>\n",
       "    </tr>\n",
       "    <tr>\n",
       "      <th>52.5</th>\n",
       "      <th>287.5</th>\n",
       "      <th>2013-02-17 06:00:00</th>\n",
       "      <td>258.799988</td>\n",
       "    </tr>\n",
       "    <tr>\n",
       "      <th>62.5</th>\n",
       "      <th>275.0</th>\n",
       "      <th>2013-10-20 12:00:00</th>\n",
       "      <td>273.799988</td>\n",
       "    </tr>\n",
       "  </tbody>\n",
       "</table>\n",
       "</div>"
      ],
      "text/plain": [
       "                                       air\n",
       "lat  lon   time                           \n",
       "35.0 245.0 2013-08-15 12:00:00  298.100006\n",
       "57.5 252.5 2014-04-01 18:00:00  260.200012\n",
       "75.0 245.0 2013-07-19 00:00:00  281.299988\n",
       "25.0 292.5 2013-08-01 06:00:00  300.299988\n",
       "52.5 262.5 2013-05-16 00:00:00  287.900024\n",
       "65.0 272.5 2014-11-22 06:00:00  232.299973\n",
       "60.0 220.0 2013-03-08 12:00:00  271.299988\n",
       "40.0 282.5 2014-01-10 00:00:00  270.100006\n",
       "52.5 287.5 2013-02-17 06:00:00  258.799988\n",
       "62.5 275.0 2013-10-20 12:00:00  273.799988"
      ]
     },
     "execution_count": 43,
     "metadata": {},
     "output_type": "execute_result"
    }
   ],
   "source": [
    "ds.to_dataframe().sample(10)"
   ]
  },
  {
   "cell_type": "markdown",
   "metadata": {},
   "source": [
    "xray doesn't yet have plotting, so we export to pandas:"
   ]
  },
  {
   "cell_type": "code",
   "execution_count": 44,
   "metadata": {
    "collapsed": false
   },
   "outputs": [
    {
     "data": {
      "text/plain": [
       "<matplotlib.axes._subplots.AxesSubplot at 0x10c2ddf10>"
      ]
     },
     "execution_count": 44,
     "metadata": {},
     "output_type": "execute_result"
    },
    {
     "data": {
      "image/png": "[encoded data removed]",
      "text/plain": [
       "<matplotlib.figure.Figure at 0x10c2dd550>"
      ]
     },
     "metadata": {},
     "output_type": "display_data"
    }
   ],
   "source": [
    "ds.mean(['lat', 'lon']).to_dataframe().plot()"
   ]
  },
  {
   "cell_type": "markdown",
   "metadata": {},
   "source": [
    "We can also use matplotlib directly. This is useful for 2D plotting (not supported by pandas):"
   ]
  },
  {
   "cell_type": "code",
   "execution_count": 45,
   "metadata": {
    "collapsed": false
   },
   "outputs": [
    {
     "data": {
      "text/plain": [
       "<matplotlib.colorbar.Colorbar instance at 0x11fb323f8>"
      ]
     },
     "execution_count": 45,
     "metadata": {},
     "output_type": "execute_result"
    },
    {
     "data": {
      "image/png": "[encoded data removed]",
      "text/plain": [
       "<matplotlib.figure.Figure at 0x11fc96a50>"
      ]
     },
     "metadata": {},
     "output_type": "display_data"
    }
   ],
   "source": [
    "plt.contourf(ds.lon, ds.lat, ds.min('time').air, 20, cmap='Spectral_r')\n",
    "plt.colorbar()"
   ]
  },
  {
   "cell_type": "markdown",
   "metadata": {},
   "source": [
    "## Time series"
   ]
  },
  {
   "cell_type": "markdown",
   "metadata": {},
   "source": [
    "Xray implements the \"split-apply-combine\" paradigm with `groupby`. This works really well for calculating climatologies:"
   ]
  },
  {
   "cell_type": "code",
   "execution_count": 46,
   "metadata": {
    "collapsed": false
   },
   "outputs": [
    {
     "data": {
      "text/plain": [
       "<xray.Dataset>\n",
       "Dimensions:  (season: 4)\n",
       "Coordinates:\n",
       "  * season   (season) object 'DJF' 'JJA' 'MAM' 'SON'\n",
       "Data variables:\n",
       "    air      (season) float64 273.7 289.2 279.0 283.0"
      ]
     },
     "execution_count": 46,
     "metadata": {},
     "output_type": "execute_result"
    }
   ],
   "source": [
    "ds.groupby('time.season').mean()"
   ]
  },
  {
   "cell_type": "code",
   "execution_count": 47,
   "metadata": {
    "collapsed": true
   },
   "outputs": [],
   "source": [
    "clim = ds.groupby('time.month').mean('time')"
   ]
  },
  {
   "cell_type": "code",
   "execution_count": 48,
   "metadata": {
    "collapsed": false
   },
   "outputs": [
    {
     "data": {
      "text/plain": [
       "<xray.Dataset>\n",
       "Dimensions:  (lat: 25, lon: 53, month: 12)\n",
       "Coordinates:\n",
       "  * lat      (lat) float32 75.0 72.5 70.0 67.5 65.0 62.5 60.0 57.5 55.0 52.5 ...\n",
       "  * lon      (lon) float32 200.0 202.5 205.0 207.5 210.0 212.5 215.0 217.5 ...\n",
       "  * month    (month) int64 1 2 3 4 5 6 7 8 9 10 11 12\n",
       "Data variables:\n",
       "    air      (month, lat, lon) float64 246.4 246.4 246.2 245.8 245.2 244.6 ..."
      ]
     },
     "execution_count": 48,
     "metadata": {},
     "output_type": "execute_result"
    }
   ],
   "source": [
    "clim"
   ]
  },
  {
   "cell_type": "markdown",
   "metadata": {},
   "source": [
    "You can also do arithmetic with groupby objects, which repeats the arithmetic over each group:"
   ]
  },
  {
   "cell_type": "code",
   "execution_count": 49,
   "metadata": {
    "collapsed": true
   },
   "outputs": [],
   "source": [
    "anomalies = ds.groupby('time.month') - clim"
   ]
  },
  {
   "cell_type": "code",
   "execution_count": 52,
   "metadata": {
    "collapsed": false
   },
   "outputs": [
    {
     "data": {
      "text/plain": [
       "<xray.Dataset>\n",
       "Dimensions:  (lat: 25, lon: 53, time: 2920)\n",
       "Coordinates:\n",
       "  * lat      (lat) float32 75.0 72.5 70.0 67.5 65.0 62.5 60.0 57.5 55.0 52.5 ...\n",
       "  * lon      (lon) float32 200.0 202.5 205.0 207.5 210.0 212.5 215.0 217.5 ...\n",
       "    month    (time) int32 1 1 1 1 1 1 1 1 1 1 1 1 1 1 1 1 1 1 1 1 1 1 1 1 1 ...\n",
       "  * time     (time) datetime64[ns] 2013-01-01 2013-01-01T06:00:00 ...\n",
       "Data variables:\n",
       "    air      (time, lat, lon) float64 -5.152 -3.888 -2.717 -1.814 -1.127 ...\n",
       "Attributes:\n",
       "    Conventions: COARDS\n",
       "    title: 4x daily NMC reanalysis (1948)\n",
       "    description: Data is from NMC initialized reanalysis\n",
       "(4x/day).  These are the 0.9950 sigma level values.\n",
       "    platform: Model\n",
       "    references: http://www.esrl.noaa.gov/psd/data/gridded/data.ncep.reanalysis.html\n",
       "    foo: bar"
      ]
     },
     "execution_count": 52,
     "metadata": {},
     "output_type": "execute_result"
    }
   ],
   "source": [
    "anomalies"
   ]
  },
  {
   "cell_type": "markdown",
   "metadata": {},
   "source": [
    "Resample adjusts a time series to a new resolution:"
   ]
  },
  {
   "cell_type": "code",
   "execution_count": 53,
   "metadata": {
    "collapsed": true
   },
   "outputs": [],
   "source": [
    "tmin = ds.air.resample('1D', dim='time', how='min')\n",
    "tmax = ds.air.resample('1D', dim='time', how='max')"
   ]
  },
  {
   "cell_type": "code",
   "execution_count": 54,
   "metadata": {
    "collapsed": false
   },
   "outputs": [
    {
     "data": {
      "text/plain": [
       "<xray.DataArray 'air' (time: 730, lat: 25, lon: 53)>\n",
       "array([[[ 241.2,  241.8, ...,  233.6,  235.8],\n",
       "        [ 243.6,  244.1, ...,  231.5,  234.5],\n",
       "        ..., \n",
       "        [ 295.9,  296.2, ...,  295.5,  295.1],\n",
       "        [ 296.3,  296.3, ...,  296.4,  296.6]],\n",
       "\n",
       "       [[ 243.2,  243.1, ...,  238.8,  240.9],\n",
       "        [ 246.4,  245.3, ...,  234.9,  237.2],\n",
       "        ..., \n",
       "        [ 296.7,  296.3, ...,  296.4,  296.1],\n",
       "        [ 297.5,  297.1, ...,  296.5,  296.9]],\n",
       "\n",
       "       ..., \n",
       "       [[ 243.1,  243.4, ...,  245.6,  244.5],\n",
       "        [ 247.7,  248.2, ...,  242.4,  244.2],\n",
       "        ..., \n",
       "        [ 296.7,  297.4, ...,  296. ,  295.2],\n",
       "        [ 297.8,  298.5, ...,  295.9,  295.5]],\n",
       "\n",
       "       [[ 242.5,  242.4, ...,  241.5,  241.8],\n",
       "        [ 248.4,  248.8, ...,  240.3,  241.7],\n",
       "        ..., \n",
       "        [ 296.1,  296.9, ...,  295.1,  294.4],\n",
       "        [ 297.7,  298.1, ...,  295.5,  295.2]]])\n",
       "Coordinates:\n",
       "  * lat      (lat) float32 75.0 72.5 70.0 67.5 65.0 62.5 60.0 57.5 55.0 52.5 ...\n",
       "  * lon      (lon) float32 200.0 202.5 205.0 207.5 210.0 212.5 215.0 217.5 ...\n",
       "  * time     (time) datetime64[ns] 2013-01-01 2013-01-02 2013-01-03 ...\n",
       "Attributes:\n",
       "    long_name: 4xDaily Air temperature at sigma level 995\n",
       "    units: degK\n",
       "    precision: 2\n",
       "    GRIB_id: 11\n",
       "    GRIB_name: TMP\n",
       "    var_desc: Air temperature\n",
       "    dataset: NMC Reanalysis\n",
       "    level_desc: Surface\n",
       "    statistic: Individual Obs\n",
       "    parent_stat: Other\n",
       "    actual_range: [ 185.16  322.1 ]"
      ]
     },
     "execution_count": 54,
     "metadata": {},
     "output_type": "execute_result"
    }
   ],
   "source": [
    "tmin"
   ]
  },
  {
   "cell_type": "code",
   "execution_count": 55,
   "metadata": {
    "collapsed": false
   },
   "outputs": [],
   "source": [
    "ds_extremes = xray.Dataset({'tmin': tmin, 'tmax': tmax})"
   ]
  },
  {
   "cell_type": "code",
   "execution_count": 56,
   "metadata": {
    "collapsed": false
   },
   "outputs": [
    {
     "data": {
      "text/plain": [
       "<xray.Dataset>\n",
       "Dimensions:  (lat: 25, lon: 53, time: 730)\n",
       "Coordinates:\n",
       "  * lat      (lat) float32 75.0 72.5 70.0 67.5 65.0 62.5 60.0 57.5 55.0 52.5 ...\n",
       "  * lon      (lon) float32 200.0 202.5 205.0 207.5 210.0 212.5 215.0 217.5 ...\n",
       "  * time     (time) datetime64[ns] 2013-01-01 2013-01-02 2013-01-03 ...\n",
       "Data variables:\n",
       "    tmax     (time, lat, lon) float64 242.3 242.7 243.5 244.0 244.1 243.9 ...\n",
       "    tmin     (time, lat, lon) float64 241.2 241.8 241.8 242.1 242.6 243.3 ..."
      ]
     },
     "execution_count": 56,
     "metadata": {},
     "output_type": "execute_result"
    }
   ],
   "source": [
    "ds_extremes"
   ]
  },
  {
   "cell_type": "markdown",
   "metadata": {},
   "source": [
    "-------------------"
   ]
  },
  {
   "cell_type": "markdown",
   "metadata": {},
   "source": [
    "## Exercises"
   ]
  },
  {
   "cell_type": "markdown",
   "metadata": {},
   "source": [
    "(c) Calculate anomalies for `tmin`. Plot a 2D map of these anomalies for `2014-12-31`."
   ]
  },
  {
   "cell_type": "code",
   "execution_count": null,
   "metadata": {
    "collapsed": true
   },
   "outputs": [],
   "source": []
  },
  {
   "cell_type": "markdown",
   "metadata": {},
   "source": [
    "(d) Resample the original dataset to a monthly average, average across space and plot the time-series. (Hint: resampling uses `'1MS'` to indicate month-start.)"
   ]
  },
  {
   "cell_type": "code",
   "execution_count": null,
   "metadata": {
    "collapsed": true
   },
   "outputs": [],
   "source": []
  },
  {
   "cell_type": "markdown",
   "metadata": {},
   "source": [
    "-------------------"
   ]
  },
  {
   "cell_type": "markdown",
   "metadata": {},
   "source": [
    "## xray does (fast) automatic alignment"
   ]
  },
  {
   "cell_type": "markdown",
   "metadata": {},
   "source": [
    "What happens if you multiple an array with dimensions `(time, latitude, longitude)` with an array with dimensions `(time,)`?"
   ]
  },
  {
   "cell_type": "code",
   "execution_count": 94,
   "metadata": {
    "collapsed": false
   },
   "outputs": [
    {
     "data": {
      "text/plain": [
       "<xray.Dataset>\n",
       "Dimensions:  (lat: 25, lon: 53, time: 2920)\n",
       "Coordinates:\n",
       "  * lat      (lat) float32 75.0 72.5 70.0 67.5 65.0 62.5 60.0 57.5 55.0 52.5 ...\n",
       "  * lon      (lon) float32 200.0 202.5 205.0 207.5 210.0 212.5 215.0 217.5 ...\n",
       "  * time     (time) datetime64[ns] 2013-01-01 2013-01-01T06:00:00 ...\n",
       "Data variables:\n",
       "    air      (time, lat, lon) float64 -32.97 -31.67 -30.67 -30.17 -30.07 ...\n",
       "Attributes:\n",
       "    Conventions: COARDS\n",
       "    title: 4x daily NMC reanalysis (1948)\n",
       "    description: Data is from NMC initialized reanalysis\n",
       "(4x/day).  These are the 0.9950 sigma level values.\n",
       "    platform: Model\n",
       "    references: http://www.esrl.noaa.gov/psd/data/gridded/data.ncep.reanalysis.html\n",
       "    foo: bar"
      ]
     },
     "execution_count": 94,
     "metadata": {},
     "output_type": "execute_result"
    }
   ],
   "source": [
    "ds - ds.mean(['lat', 'lon'])"
   ]
  },
  {
   "cell_type": "markdown",
   "metadata": {},
   "source": [
    "Unlike with NumPy arrays, it works! Dimension names are paired up; mismatched dimensions are looped over, like broadcasting in NumPy.\n",
    "\n",
    "Similarly, notice that `.T` transposes an array:"
   ]
  },
  {
   "cell_type": "code",
   "execution_count": 97,
   "metadata": {
    "collapsed": false
   },
   "outputs": [
    {
     "data": {
      "text/plain": [
       "(u'lon', u'lat', u'time')"
      ]
     },
     "execution_count": 97,
     "metadata": {},
     "output_type": "execute_result"
    }
   ],
   "source": [
    "ds.air.T.dims"
   ]
  },
  {
   "cell_type": "markdown",
   "metadata": {},
   "source": [
    "We can subtract an array from its transpose:"
   ]
  },
  {
   "cell_type": "code",
   "execution_count": 96,
   "metadata": {
    "collapsed": false
   },
   "outputs": [
    {
     "data": {
      "text/plain": [
       "<xray.DataArray 'air' (time: 2920, lat: 25, lon: 53)>\n",
       "array([[[ 0.,  0., ...,  0.,  0.],\n",
       "        [ 0.,  0., ...,  0.,  0.],\n",
       "        ..., \n",
       "        [ 0.,  0., ...,  0.,  0.],\n",
       "        [ 0.,  0., ...,  0.,  0.]],\n",
       "\n",
       "       [[ 0.,  0., ...,  0.,  0.],\n",
       "        [ 0.,  0., ...,  0.,  0.],\n",
       "        ..., \n",
       "        [ 0.,  0., ...,  0.,  0.],\n",
       "        [ 0.,  0., ...,  0.,  0.]],\n",
       "\n",
       "       ..., \n",
       "       [[ 0.,  0., ...,  0.,  0.],\n",
       "        [ 0.,  0., ...,  0.,  0.],\n",
       "        ..., \n",
       "        [ 0.,  0., ...,  0.,  0.],\n",
       "        [ 0.,  0., ...,  0.,  0.]],\n",
       "\n",
       "       [[ 0.,  0., ...,  0.,  0.],\n",
       "        [ 0.,  0., ...,  0.,  0.],\n",
       "        ..., \n",
       "        [ 0.,  0., ...,  0.,  0.],\n",
       "        [ 0.,  0., ...,  0.,  0.]]])\n",
       "Coordinates:\n",
       "  * lat      (lat) float32 75.0 72.5 70.0 67.5 65.0 62.5 60.0 57.5 55.0 52.5 ...\n",
       "  * lon      (lon) float32 200.0 202.5 205.0 207.5 210.0 212.5 215.0 217.5 ...\n",
       "  * time     (time) datetime64[ns] 2013-01-01 2013-01-01T06:00:00 ..."
      ]
     },
     "execution_count": 96,
     "metadata": {},
     "output_type": "execute_result"
    }
   ],
   "source": [
    "ds.air - ds.air.T"
   ]
  },
  {
   "cell_type": "markdown",
   "metadata": {},
   "source": [
    "Finally, note that xray also aligns based on coordinate labels; the result has the intersection of the argument labels:"
   ]
  },
  {
   "cell_type": "code",
   "execution_count": 100,
   "metadata": {
    "collapsed": false
   },
   "outputs": [
    {
     "data": {
      "text/plain": [
       "<xray.Dataset>\n",
       "Dimensions:  (lat: 25, lon: 53, time: 1460)\n",
       "Coordinates:\n",
       "  * lat      (lat) float32 75.0 72.5 70.0 67.5 65.0 62.5 60.0 57.5 55.0 52.5 ...\n",
       "  * time     (time) datetime64[ns] 2014-01-01 2014-01-01T06:00:00 ...\n",
       "  * lon      (lon) float32 200.0 202.5 205.0 207.5 210.0 212.5 215.0 217.5 ...\n",
       "Data variables:\n",
       "    air      (time, lat, lon) float64 252.3 251.2 250.0 248.8 247.5 246.3 ...\n",
       "Attributes:\n",
       "    Conventions: COARDS\n",
       "    title: 4x daily NMC reanalysis (1948)\n",
       "    description: Data is from NMC initialized reanalysis\n",
       "(4x/day).  These are the 0.9950 sigma level values.\n",
       "    platform: Model\n",
       "    references: http://www.esrl.noaa.gov/psd/data/gridded/data.ncep.reanalysis.html\n",
       "    foo: bar"
      ]
     },
     "execution_count": 100,
     "metadata": {},
     "output_type": "execute_result"
    }
   ],
   "source": [
    "ds.sel(time='2014')"
   ]
  },
  {
   "cell_type": "code",
   "execution_count": 116,
   "metadata": {
    "collapsed": false
   },
   "outputs": [
    {
     "data": {
      "text/plain": [
       "<xray.Dataset>\n",
       "Dimensions:  (lat: 2, lon: 53, time: 124)\n",
       "Coordinates:\n",
       "  * lat      (lat) float64 60.0 55.0\n",
       "  * lon      (lon) float32 200.0 202.5 205.0 207.5 210.0 212.5 215.0 217.5 ...\n",
       "  * time     (time) datetime64[ns] 2014-01-01 2014-01-01T06:00:00 ...\n",
       "Data variables:\n",
       "    air      (time, lat, lon) float64 0.0 0.0 0.0 0.0 0.0 0.0 0.0 0.0 0.0 ...\n",
       "Attributes:\n",
       "    Conventions: COARDS\n",
       "    title: 4x daily NMC reanalysis (1948)\n",
       "    description: Data is from NMC initialized reanalysis\n",
       "(4x/day).  These are the 0.9950 sigma level values.\n",
       "    platform: Model\n",
       "    references: http://www.esrl.noaa.gov/psd/data/gridded/data.ncep.reanalysis.html"
      ]
     },
     "execution_count": 116,
     "metadata": {},
     "output_type": "execute_result"
    }
   ],
   "source": [
    "ds.sel(lat=[60, 55]) - ds.sel(time='2014-01')"
   ]
  },
  {
   "cell_type": "markdown",
   "metadata": {},
   "source": [
    "## xray also works for data that doesn't fit in memory"
   ]
  },
  {
   "cell_type": "markdown",
   "metadata": {},
   "source": [
    "Here's a quick demo of [how xray can leverage dask](http://xray.readthedocs.org/en/stable/dask.html) to work with data that doesn't fit in memory. This lets xray substitute for tools like `cdo` and `nco`.\n",
    "\n",
    "Open a bunch of netCDF files from disk using `xray.open_mfdataset`:"
   ]
  },
  {
   "cell_type": "code",
   "execution_count": 148,
   "metadata": {
    "collapsed": true
   },
   "outputs": [],
   "source": [
    "ds = xray.open_mfdataset('/Users/shoyer/data/era-interim/2t/*.nc', engine='scipy')"
   ]
  },
  {
   "cell_type": "code",
   "execution_count": 149,
   "metadata": {
    "collapsed": false
   },
   "outputs": [
    {
     "data": {
      "text/plain": [
       "<xray.Dataset>\n",
       "Dimensions:    (latitude: 256, longitude: 512, time: 52596)\n",
       "Coordinates:\n",
       "  * latitude   (latitude) float32 89.4628 88.767 88.067 87.3661 86.6648 ...\n",
       "  * longitude  (longitude) float32 0.0 0.703125 1.40625 2.10938 2.8125 ...\n",
       "  * time       (time) datetime64[ns] 1979-01-01 1979-01-01T06:00:00 ...\n",
       "Data variables:\n",
       "    t2m        (time, latitude, longitude) float64 240.6 240.6 240.6 240.6 ...\n",
       "Attributes:\n",
       "    Conventions: CF-1.0\n",
       "    history: 2015-01-24 09:20:12 GMT by grib_to_netcdf-1.12.3: grib_to_netcdf /data/data01/mars-web231-20150124092007-12207-11342.target -o /data/data01/mars-web231-20150124092011-12207-11343.nc"
      ]
     },
     "execution_count": 149,
     "metadata": {},
     "output_type": "execute_result"
    }
   ],
   "source": [
    "ds"
   ]
  },
  {
   "cell_type": "code",
   "execution_count": 151,
   "metadata": {
    "collapsed": false
   },
   "outputs": [
    {
     "data": {
      "text/plain": [
       "51.363675981760025"
      ]
     },
     "execution_count": 151,
     "metadata": {},
     "output_type": "execute_result"
    }
   ],
   "source": [
    "ds.nbytes * (2 ** -30)"
   ]
  },
  {
   "cell_type": "code",
   "execution_count": 153,
   "metadata": {
    "collapsed": false
   },
   "outputs": [
    {
     "name": "stdout",
     "output_type": "stream",
     "text": [
      "CPU times: user 2min 43s, sys: 1min 10s, total: 3min 53s\n",
      "Wall time: 1min\n"
     ]
    },
    {
     "data": {
      "text/plain": [
       "278.64617415292236"
      ]
     },
     "execution_count": 153,
     "metadata": {},
     "output_type": "execute_result"
    }
   ],
   "source": [
    "%time float(ds.t2m.mean())"
   ]
  },
  {
   "cell_type": "markdown",
   "metadata": {},
   "source": [
    "For more details, read this blog post: http://continuum.io/blog/xray-dask"
   ]
  }
 ],
 "metadata": {
  "celltoolbar": "Raw Cell Format",
  "kernelspec": {
   "display_name": "Python 2",
   "language": "python",
   "name": "python2"
  },
  "language_info": {
   "codemirror_mode": {
    "name": "ipython",
    "version": 2
   },
   "file_extension": ".py",
   "mimetype": "text/x-python",
   "name": "python",
   "nbconvert_exporter": "python",
   "pygments_lexer": "ipython2",
   "version": "2.7.10"
  }
 },
 "nbformat": 4,
 "nbformat_minor": 0
}
